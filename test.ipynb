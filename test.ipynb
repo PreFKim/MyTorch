{
 "cells": [
  {
   "cell_type": "markdown",
   "metadata": {},
   "source": [
    "# 연산그래프 구조 변환, 배열 연산 테스트 [[참조](https://velog.io/@pre_f_86/series/PyTorch-AutoGrad%EB%9E%80-%EB%AC%B4%EC%97%87%EC%9D%B8%EA%B0%80)]\n",
    "\n",
    "- Pytorch의 연산 로직에 대한 이해와 비슷하게 작동하도록 구현\n",
    "\n",
    "- Param 객체 내의 Data가 숫자, 소수점 등의 Scalar 데이터 타입이 아닌 배열(Numpy) 객체를 활용하여 Matrix 데이터를 담을 수 있도록 구현\n",
    "\n",
    "    - 숫자, 소수점을 담는 경우에는 너무 많은 객체가 생성되어 연산량, 메모리 사용량 등의 증가를 해결 하고자 함\n",
    "\n"
   ]
  },
  {
   "cell_type": "code",
   "execution_count": 10,
   "metadata": {},
   "outputs": [],
   "source": [
    "import numpy as np\n",
    "import torch\n",
    "import src as my"
   ]
  },
  {
   "cell_type": "code",
   "execution_count": 11,
   "metadata": {},
   "outputs": [
    {
     "data": {
      "text/plain": [
       "(array([-2.5, -2.5, -2.5, -2.5, -2.5, -2.5, -2.5, -2.5, -2.5, -2.5]),\n",
       " array([-0., -0., -0., -0., -0., -0., -0., -0., -0., -0.]))"
      ]
     },
     "execution_count": 11,
     "metadata": {},
     "output_type": "execute_result"
    }
   ],
   "source": [
    "\n",
    "val1 = my.Param(np.zeros((10)), requires_grad=True)\n",
    "val2 = my.Param(np.ones((10)), requires_grad=True)\n",
    "\n",
    "out = abs(-((val1*val2)*5**2/10-1))\n",
    "summed = 0\n",
    "for val in out:\n",
    "    summed += val\n",
    "summed.backward()\n",
    "val1.grad, val2.grad"
   ]
  },
  {
   "cell_type": "code",
   "execution_count": 3,
   "metadata": {},
   "outputs": [
    {
     "data": {
      "text/plain": [
       "(tensor([-2.5000, -2.5000, -2.5000, -2.5000, -2.5000, -2.5000, -2.5000, -2.5000,\n",
       "         -2.5000, -2.5000]),\n",
       " tensor([-0., -0., -0., -0., -0., -0., -0., -0., -0., -0.]))"
      ]
     },
     "execution_count": 3,
     "metadata": {},
     "output_type": "execute_result"
    }
   ],
   "source": [
    "\n",
    "val1 = torch.zeros((10), requires_grad=True)\n",
    "val2 = torch.ones((10), requires_grad=True)\n",
    "\n",
    "out = abs(-((val1*val2)*5**2/10-1))\n",
    "summed = 0\n",
    "for val in out:\n",
    "    summed += val\n",
    "summed.backward()\n",
    "val1.grad, val2.grad"
   ]
  },
  {
   "cell_type": "markdown",
   "metadata": {},
   "source": [
    "# 인덱싱(Get, Set) 그래디언트 테스트\n",
    "\n",
    "- val1 : 연산 테스트, Leaf 노드까지 그래디언트가 잘 전달 되는지 확인\n",
    "\n",
    "- val2 : val1과 동일\n",
    "\n",
    "- val3 : Set 연산, Get 연산 테스트\n",
    "\n",
    "- val4 : 중첩되는 Set 연산에 대한 테스트"
   ]
  },
  {
   "cell_type": "code",
   "execution_count": 6,
   "metadata": {},
   "outputs": [],
   "source": [
    "import numpy as np\n",
    "import src as my\n",
    "import torch"
   ]
  },
  {
   "cell_type": "code",
   "execution_count": 7,
   "metadata": {},
   "outputs": [],
   "source": [
    "\n",
    "def test(val1, val2, val3, val4):\n",
    "    out1 = val1+5\n",
    "\n",
    "    out2 = out1*val2\n",
    "\n",
    "    out2[2:7] = val3[:5]\n",
    "\n",
    "    out2[1:3] = val4\n",
    "\n",
    "    out3 = 0\n",
    "    for i in range(out2.data.shape[0]):\n",
    "        out3 = (out3 + out2[i])*5\n",
    "    out3.backward()\n",
    "    print(val1.grad)\n",
    "    print(val2.grad)\n",
    "    print(val3.grad)\n",
    "    print(val4.grad)"
   ]
  },
  {
   "cell_type": "code",
   "execution_count": 8,
   "metadata": {},
   "outputs": [
    {
     "name": "stdout",
     "output_type": "stream",
     "text": [
      "[9.765625e+06 0.000000e+00 0.000000e+00 0.000000e+00 0.000000e+00\n",
      " 0.000000e+00 0.000000e+00 1.250000e+02 2.500000e+01 5.000000e+00]\n",
      "[4.8828125e+07 0.0000000e+00 0.0000000e+00 0.0000000e+00 0.0000000e+00\n",
      " 0.0000000e+00 0.0000000e+00 6.2500000e+02 1.2500000e+02 2.5000000e+01]\n",
      "[    0. 78125. 15625.  3125.   625.     0.     0.     0.     0.     0.]\n",
      "[1953125.  390625.]\n"
     ]
    }
   ],
   "source": [
    "val1 = my.Param(np.zeros(10), requires_grad=True)\n",
    "val2 = my.Param(np.ones(10), requires_grad=True)\n",
    "val3 = my.Param(np.ones(10), requires_grad=True)\n",
    "val4 = my.Param(np.ones(2), requires_grad=True)\n",
    "\n",
    "test(val1, val2, val3, val4)"
   ]
  },
  {
   "cell_type": "code",
   "execution_count": 9,
   "metadata": {},
   "outputs": [
    {
     "name": "stdout",
     "output_type": "stream",
     "text": [
      "tensor([9.7656e+06, 0.0000e+00, 0.0000e+00, 0.0000e+00, 0.0000e+00, 0.0000e+00,\n",
      "        0.0000e+00, 1.2500e+02, 2.5000e+01, 5.0000e+00])\n",
      "tensor([4.8828e+07, 0.0000e+00, 0.0000e+00, 0.0000e+00, 0.0000e+00, 0.0000e+00,\n",
      "        0.0000e+00, 6.2500e+02, 1.2500e+02, 2.5000e+01])\n",
      "tensor([    0., 78125., 15625.,  3125.,   625.,     0.,     0.,     0.,     0.,\n",
      "            0.])\n",
      "tensor([1953125.,  390625.])\n"
     ]
    }
   ],
   "source": [
    "\n",
    "val1 = torch.zeros(10, requires_grad=True)\n",
    "val2 = torch.ones(10, requires_grad=True)\n",
    "val3 = torch.ones(10, requires_grad=True)\n",
    "val4 = torch.ones(2, requires_grad=True)\n",
    "\n",
    "test(val1, val2, val3, val4)"
   ]
  },
  {
   "cell_type": "markdown",
   "metadata": {},
   "source": [
    "# 레이어 연산 테스트\n",
    "\n",
    "※ 브로드캐스팅으로 인해 역전파된 그래디언트의 차원이 맞지 않는 현상 발견 (Layer의 Bias 부분)\n",
    "\n",
    "- Linear 연산 이후 계산된 그래디언트 비교"
   ]
  },
  {
   "cell_type": "code",
   "execution_count": null,
   "metadata": {},
   "outputs": [],
   "source": [
    "import numpy as np\n",
    "import src as my\n",
    "import torch\n",
    "import torch.nn as nn\n"
   ]
  },
  {
   "cell_type": "code",
   "execution_count": null,
   "metadata": {},
   "outputs": [],
   "source": [
    "\n",
    "class mymodel(my.layers.Module):\n",
    "    def __init__(self):\n",
    "        self.l1 = my.layers.Linear(2,4,bias=True)\n",
    "        self.l2 = my.layers.Linear(4,4,bias=True)\n",
    "        self.l3 = my.layers.Linear(4,4,bias=True)\n",
    "        self.l4 = my.layers.Linear(4,1,bias=True)\n",
    "\n",
    "    def forward(self,x):\n",
    "        out = self.l1(x)\n",
    "        out = self.l2(out)\n",
    "        out = self.l3(out)\n",
    "        out = self.l4(out)\n",
    "        ret = 0\n",
    "\n",
    "        for o in out:\n",
    "            ret = ret + o\n",
    "        return ret\n",
    "model = mymodel()\n",
    "x = my.Param(np.ones((5,2)))\n",
    "\n",
    "out = model(x)\n",
    "out.backward()\n"
   ]
  },
  {
   "cell_type": "code",
   "execution_count": null,
   "metadata": {},
   "outputs": [
    {
     "name": "stdout",
     "output_type": "stream",
     "text": [
      "\n",
      "Node (Data:[1065.], requrired_grad:True) (1,)\n",
      "[[80. 80. 80. 80.]\n",
      " [80. 80. 80. 80.]]\n",
      "[[16. 16. 16. 16.]\n",
      " [16. 16. 16. 16.]\n",
      " [16. 16. 16. 16.]\n",
      " [16. 16. 16. 16.]\n",
      " [16. 16. 16. 16.]]\n",
      "[[60. 60. 60. 60.]\n",
      " [60. 60. 60. 60.]\n",
      " [60. 60. 60. 60.]\n",
      " [60. 60. 60. 60.]]\n",
      "[[4. 4. 4. 4.]\n",
      " [4. 4. 4. 4.]\n",
      " [4. 4. 4. 4.]\n",
      " [4. 4. 4. 4.]\n",
      " [4. 4. 4. 4.]]\n",
      "[[65. 65. 65. 65.]\n",
      " [65. 65. 65. 65.]\n",
      " [65. 65. 65. 65.]\n",
      " [65. 65. 65. 65.]]\n",
      "[[1. 1. 1. 1.]\n",
      " [1. 1. 1. 1.]\n",
      " [1. 1. 1. 1.]\n",
      " [1. 1. 1. 1.]\n",
      " [1. 1. 1. 1.]]\n",
      "[[265.]\n",
      " [265.]\n",
      " [265.]\n",
      " [265.]]\n",
      "[[1.]\n",
      " [1.]\n",
      " [1.]\n",
      " [1.]\n",
      " [1.]]\n"
     ]
    }
   ],
   "source": [
    "import numpy as np\n",
    "import src as my\n",
    "model = mymodel()\n",
    "x = my.Param(np.ones((5,2)))\n",
    "\n",
    "out = model(x)\n",
    "out.backward()\n",
    "\n",
    "print()\n",
    "print(out,out.shape)\n",
    "print(model.l1.weight.grad)\n",
    "print(model.l1.bias.grad)\n",
    "print(model.l2.weight.grad)\n",
    "print(model.l2.bias.grad)\n",
    "print(model.l3.weight.grad)\n",
    "print(model.l3.bias.grad)\n",
    "print(model.l4.weight.grad)\n",
    "print(model.l4.bias.grad)\n"
   ]
  },
  {
   "cell_type": "code",
   "execution_count": null,
   "metadata": {},
   "outputs": [
    {
     "data": {
      "text/plain": [
       "tensor([1065.], grad_fn=<AddBackward0>)"
      ]
     },
     "execution_count": 4,
     "metadata": {},
     "output_type": "execute_result"
    }
   ],
   "source": [
    "\n",
    "class mymodel(nn.Module):\n",
    "    def __init__(self):\n",
    "        super().__init__()\n",
    "        self.l1 = nn.Linear(2,4, bias=True)\n",
    "        self.l2 = nn.Linear(4,4, bias=True)\n",
    "        self.l3 = nn.Linear(4,4, bias=True)\n",
    "        self.l4 = nn.Linear(4,1, bias=True)\n",
    "    \n",
    "        self._initialize_weights()\n",
    "\n",
    "    def _initialize_weights(self):\n",
    "        for layer in self.children():\n",
    "            if isinstance(layer, nn.Linear):\n",
    "                nn.init.constant_(layer.weight, 1)  \n",
    "                if layer.bias is not None:\n",
    "                    nn.init.constant_(layer.bias, 1) \n",
    "\n",
    "    def forward(self,x):\n",
    "        out = self.l1(x)\n",
    "        out = self.l2(out)\n",
    "        out = self.l3(out)\n",
    "        out = self.l4(out)\n",
    "        ret = 0\n",
    "        for o in out:\n",
    "            ret = ret + o\n",
    "        return ret\n",
    "    \n",
    "\n",
    "model = mymodel()\n",
    "x = torch.ones((5,2))\n",
    "out = model(x)\n",
    "out.backward()\n",
    "out"
   ]
  },
  {
   "cell_type": "code",
   "execution_count": null,
   "metadata": {},
   "outputs": [
    {
     "name": "stdout",
     "output_type": "stream",
     "text": [
      "tensor([[80., 80.],\n",
      "        [80., 80.],\n",
      "        [80., 80.],\n",
      "        [80., 80.]])\n",
      "tensor([80., 80., 80., 80.])\n",
      "tensor([[60., 60., 60., 60.],\n",
      "        [60., 60., 60., 60.],\n",
      "        [60., 60., 60., 60.],\n",
      "        [60., 60., 60., 60.]])\n",
      "tensor([20., 20., 20., 20.])\n",
      "tensor([[65., 65., 65., 65.],\n",
      "        [65., 65., 65., 65.],\n",
      "        [65., 65., 65., 65.],\n",
      "        [65., 65., 65., 65.]])\n",
      "tensor([5., 5., 5., 5.])\n",
      "tensor([[265., 265., 265., 265.]])\n",
      "tensor([5.])\n"
     ]
    }
   ],
   "source": [
    "print(model.l1.weight.grad)\n",
    "print(model.l1.bias.grad)\n",
    "print(model.l2.weight.grad)\n",
    "print(model.l2.bias.grad)\n",
    "print(model.l3.weight.grad)\n",
    "print(model.l3.bias.grad)\n",
    "print(model.l4.weight.grad)\n",
    "print(model.l4.bias.grad)"
   ]
  },
  {
   "cell_type": "markdown",
   "metadata": {},
   "source": [
    "# 서로 다른 차원을 가진 객체에 대한 역전파 테스트 [[참조](https://numpy.org/doc/stable/user/basics.broadcasting.html)]\n",
    "\n",
    "- (5, 1) 과 (1)의 차원을 가진 두 객체 사이의 연산\n",
    "\n",
    "- (5, 1) 과 (1, 5)의 차원을 가진 두 객체 사이의 연산\n",
    "\n",
    "**Numpy 브로드캐스팅 규칙**\n",
    "\n",
    "1. 두 차원의 길이가 맞지 않는 경우 길이가 맞을 때까지 작은 차원의 앞에 1을 붙임\n",
    "\n",
    "    - (5, 2, 5) + (5,) -> (5, 2, 5) + (1, 1, 5)\n",
    "\n",
    "2. 차원이 1인 경우 각 위치에 맞는 차원만큼 배열 복사\n",
    "\n",
    "    - (5, 2, 5) + (1, 1, 5) -> (5, 2, 5) + (5, 2, 5)"
   ]
  },
  {
   "cell_type": "code",
   "execution_count": null,
   "metadata": {},
   "outputs": [],
   "source": [
    "import src as my\n",
    "import numpy as np"
   ]
  },
  {
   "cell_type": "code",
   "execution_count": null,
   "metadata": {},
   "outputs": [],
   "source": [
    "tmp1 = my.Param(np.zeros((1, 5)), requires_grad=True)\n",
    "tmp2 = my.Param(np.ones((5, 1)), requires_grad=True)\n",
    "out = tmp1*tmp2\n",
    "out.backward()"
   ]
  },
  {
   "cell_type": "code",
   "execution_count": null,
   "metadata": {},
   "outputs": [
    {
     "data": {
      "text/plain": [
       "(array([[5., 5., 5., 5., 5.]]),\n",
       " (1, 5),\n",
       " array([[0.],\n",
       "        [0.],\n",
       "        [0.],\n",
       "        [0.],\n",
       "        [0.]]),\n",
       " (5, 1))"
      ]
     },
     "execution_count": 15,
     "metadata": {},
     "output_type": "execute_result"
    }
   ],
   "source": [
    "tmp1.grad, tmp1.grad.shape, tmp2.grad, tmp2.grad.shape"
   ]
  },
  {
   "cell_type": "markdown",
   "metadata": {},
   "source": [
    "# 학습 테스트\n",
    "\n",
    "- 가중치를 1이 아닌 He Init을 사용하여 초기화\n",
    "\n",
    "- Adam 구현\n",
    "\n",
    "- ReLU 구현"
   ]
  },
  {
   "cell_type": "code",
   "execution_count": null,
   "metadata": {},
   "outputs": [],
   "source": [
    "import src as my\n",
    "import numpy as np"
   ]
  },
  {
   "cell_type": "code",
   "execution_count": null,
   "metadata": {},
   "outputs": [],
   "source": [
    "def relu(x):\n",
    "    x[x<0] = 0\n",
    "    return x\n",
    "\n",
    "class mymodel(my.layers.Module):\n",
    "    def __init__(self):\n",
    "        self.l1 = my.layers.Linear(2,16,bias=True)\n",
    "        self.l2 = my.layers.Linear(16,16,bias=True)\n",
    "        self.l3 = my.layers.Linear(16,16,bias=True)\n",
    "        self.l4 = my.layers.Linear(16,1,bias=True)\n",
    "\n",
    "    def forward(self,x):\n",
    "        out = self.l1(x)\n",
    "        out = relu(out)\n",
    "        out = self.l2(out)\n",
    "        out = relu(out)\n",
    "        out = self.l3(out)\n",
    "        out = relu(out)\n",
    "        out = self.l4(out)\n",
    "        return out\n",
    "\n",
    "x = my.Param(np.stack([np.arange(100), np.arange(100)], 1))/100\n",
    "y = my.Param(np.arange(100).reshape(-1, 1))/100"
   ]
  },
  {
   "cell_type": "code",
   "execution_count": null,
   "metadata": {},
   "outputs": [
    {
     "name": "stdout",
     "output_type": "stream",
     "text": [
      "Data:[0.18300367], requrired_grad:True\n",
      "Data:[0.04558312], requrired_grad:True\n",
      "Data:[0.00253195], requrired_grad:True\n",
      "Data:[2.43981414e-06], requrired_grad:True\n",
      "Data:[0.00052742], requrired_grad:True\n",
      "Data:[0.00049233], requrired_grad:True\n",
      "Data:[0.00027985], requrired_grad:True\n",
      "Data:[0.0001116], requrired_grad:True\n",
      "Data:[3.78963245e-05], requrired_grad:True\n",
      "Data:[1.0044037e-05], requrired_grad:True\n",
      "Data:[1.74961075e-06], requrired_grad:True\n",
      "Data:[7.58300889e-08], requrired_grad:True\n",
      "Data:[3.37215609e-08], requrired_grad:True\n",
      "Data:[8.47882185e-08], requrired_grad:True\n",
      "Data:[6.00794388e-08], requrired_grad:True\n",
      "Data:[2.55156315e-08], requrired_grad:True\n",
      "Data:[7.84502031e-09], requrired_grad:True\n",
      "Data:[1.72523721e-09], requrired_grad:True\n",
      "Data:[2.06079571e-10], requrired_grad:True\n",
      "Data:[1.89906463e-11], requrired_grad:True\n",
      "Data:[4.19445674e-11], requrired_grad:True\n",
      "Data:[3.81100717e-11], requrired_grad:True\n",
      "Data:[1.73545469e-11], requrired_grad:True\n",
      "Data:[4.54230245e-12], requrired_grad:True\n",
      "Data:[5.50345816e-13], requrired_grad:True\n",
      "Data:[3.15865218e-14], requrired_grad:True\n",
      "Data:[7.30346324e-14], requrired_grad:True\n",
      "Data:[6.5025515e-14], requrired_grad:True\n",
      "Data:[2.92746985e-14], requrired_grad:True\n",
      "Data:[7.75968502e-15], requrired_grad:True\n",
      "Data:[9.63312375e-16], requrired_grad:True\n",
      "Data:[7.10820029e-17], requrired_grad:True\n",
      "Data:[1.90607568e-16], requrired_grad:True\n",
      "Data:[1.50178713e-16], requrired_grad:True\n",
      "Data:[5.17655645e-17], requrired_grad:True\n",
      "Data:[6.60867552e-18], requrired_grad:True\n",
      "Data:[1.45704003e-20], requrired_grad:True\n",
      "Data:[9.70548923e-19], requrired_grad:True\n",
      "Data:[8.07234777e-19], requrired_grad:True\n",
      "Data:[2.45826265e-19], requrired_grad:True\n",
      "Data:[2.50547088e-20], requrired_grad:True\n",
      "Data:[3.01387854e-21], requrired_grad:True\n",
      "Data:[7.41634918e-21], requrired_grad:True\n",
      "Data:[4.19604187e-21], requrired_grad:True\n",
      "Data:[9.32770999e-22], requrired_grad:True\n",
      "Data:[5.97603215e-23], requrired_grad:True\n",
      "Data:[5.53897926e-23], requrired_grad:True\n",
      "Data:[5.63407935e-23], requrired_grad:True\n",
      "Data:[1.86311188e-23], requrired_grad:True\n",
      "Data:[1.73209692e-24], requrired_grad:True\n",
      "Data:[4.63253853e-25], requrired_grad:True\n",
      "Data:[7.72477141e-25], requrired_grad:True\n",
      "Data:[3.01141269e-25], requrired_grad:True\n",
      "Data:[2.76651006e-26], requrired_grad:True\n",
      "Data:[6.35053916e-27], requrired_grad:True\n",
      "Data:[1.22700739e-26], requrired_grad:True\n",
      "Data:[4.16050411e-27], requrired_grad:True\n",
      "Data:[2.1835075e-28], requrired_grad:True\n",
      "Data:[1.96357484e-28], requrired_grad:True\n",
      "Data:[1.80544926e-28], requrired_grad:True\n",
      "Data:[6.44216252e-29], requrired_grad:True\n",
      "Data:[2.04528525e-29], requrired_grad:True\n",
      "Data:[4.23442797e-30], requrired_grad:True\n",
      "Data:[4.05138533e-31], requrired_grad:True\n",
      "Data:[6.7333487e-31], requrired_grad:True\n",
      "Data:[4.04923792e-31], requrired_grad:True\n",
      "Data:[2.40358856e-31], requrired_grad:True\n",
      "Data:[2.3395899e-31], requrired_grad:True\n",
      "Data:[2.2859335e-31], requrired_grad:True\n",
      "Data:[2.08455826e-31], requrired_grad:True\n",
      "Data:[2.05216412e-31], requrired_grad:True\n",
      "Data:[2.52236066e-31], requrired_grad:True\n",
      "Data:[2.56717705e-31], requrired_grad:True\n",
      "Data:[2.10333608e-31], requrired_grad:True\n",
      "Data:[2.02470036e-31], requrired_grad:True\n",
      "Data:[2.17095548e-31], requrired_grad:True\n",
      "Data:[2.1648888e-31], requrired_grad:True\n",
      "Data:[2.36320181e-31], requrired_grad:True\n",
      "Data:[2.34575288e-31], requrired_grad:True\n",
      "Data:[2.36056328e-31], requrired_grad:True\n",
      "Data:[2.29978093e-31], requrired_grad:True\n",
      "Data:[2.33275285e-31], requrired_grad:True\n",
      "Data:[2.27670829e-31], requrired_grad:True\n",
      "Data:[1.78056948e-31], requrired_grad:True\n",
      "Data:[1.70983007e-31], requrired_grad:True\n",
      "Data:[1.62528175e-31], requrired_grad:True\n",
      "Data:[1.61780914e-31], requrired_grad:True\n",
      "Data:[1.63329362e-31], requrired_grad:True\n",
      "Data:[1.7718065e-31], requrired_grad:True\n",
      "Data:[1.7167249e-31], requrired_grad:True\n",
      "Data:[1.64122845e-31], requrired_grad:True\n",
      "Data:[1.70416784e-31], requrired_grad:True\n",
      "Data:[1.57711424e-31], requrired_grad:True\n",
      "Data:[1.60640763e-31], requrired_grad:True\n",
      "Data:[1.59878095e-31], requrired_grad:True\n",
      "Data:[1.61869507e-31], requrired_grad:True\n",
      "Data:[1.78309245e-31], requrired_grad:True\n",
      "Data:[1.69602115e-31], requrired_grad:True\n",
      "Data:[1.68144186e-31], requrired_grad:True\n",
      "Data:[1.67658852e-31], requrired_grad:True\n"
     ]
    },
    {
     "data": {
      "text/plain": [
       "Data:[1000.], requrired_grad:True"
      ]
     },
     "execution_count": 43,
     "metadata": {},
     "output_type": "execute_result"
    }
   ],
   "source": [
    "\n",
    "model = mymodel()\n",
    "optim = my.optimizers.Adam(params=model.parameters(),lr=1e-3)\n",
    "for i in range(1000):\n",
    "    out = model(x)\n",
    "    \n",
    "    loss = (out-y)**2\n",
    "\n",
    "    loss_mean = 0\n",
    "    for l in loss:\n",
    "        loss_mean = loss_mean + l/100\n",
    "\n",
    "    \n",
    "    loss_mean.backward()\n",
    "    optim.update()\n",
    "    optim.zero_grad()\n",
    "    if (i%10==0):\n",
    "        print(loss_mean)  \n",
    "model([1000,1000])"
   ]
  },
  {
   "cell_type": "markdown",
   "metadata": {},
   "source": [
    "# 주요 배열 연산 테스트\n",
    "\n",
    "※ 이 과정에서 Param 객체 생성시 Numpy 스칼라인 경우에는 허용되지 않는 경우(버그) 수정\n",
    "\n",
    "- Sum(), Mean() 연산 : 그래디언트 테스트, 연산 결과 테스트\n",
    "\n",
    "- Reshape, Stack, Concat 연산 : 그래디언트 테스트, 연산 결과 테스트\n",
    "\n",
    "- aranage, ones, zeros, full, ~_like 연산 : 결과 테스트"
   ]
  },
  {
   "cell_type": "code",
   "execution_count": null,
   "metadata": {},
   "outputs": [],
   "source": [
    "import src as my\n",
    "import numpy as np\n",
    "import torch\n",
    "import torch.nn as nn"
   ]
  },
  {
   "cell_type": "code",
   "execution_count": null,
   "metadata": {},
   "outputs": [
    {
     "name": "stdout",
     "output_type": "stream",
     "text": [
      "(2,) [1, 2, 1]\n",
      "Data:[594 837], requrired_grad:True (2,) (54,)\n",
      "[4.5 4.5 4.5 4.5 4.5 4.5 4.5 4.5 4.5 4.5 4.5 4.5 4.5 4.5 4.5 4.5 4.5 4.5\n",
      " 4.5 4.5 4.5 4.5 4.5 4.5 4.5 4.5 4.5 4.5 4.5 4.5 4.5 4.5 4.5 4.5 4.5 4.5\n",
      " 4.5 4.5 4.5 4.5 4.5 4.5 4.5 4.5 4.5 4.5 4.5 4.5 4.5 4.5 4.5 4.5 4.5 4.5]\n"
     ]
    }
   ],
   "source": [
    "arr = my.arange(54, requires_grad=True)\n",
    "arr2 = arr.reshape((3, 2, 9))\n",
    "out = arr2.sum((2, 0))\n",
    "(out.mean()*9).backward()\n",
    "print(out, out.shape, arr.grad.shape)\n",
    "print(arr.grad)"
   ]
  },
  {
   "cell_type": "code",
   "execution_count": null,
   "metadata": {},
   "outputs": [
    {
     "name": "stdout",
     "output_type": "stream",
     "text": [
      "tensor([594., 837.], grad_fn=<SumBackward1>) torch.Size([2]) torch.Size([54])\n",
      "tensor([4.5000, 4.5000, 4.5000, 4.5000, 4.5000, 4.5000, 4.5000, 4.5000, 4.5000,\n",
      "        4.5000, 4.5000, 4.5000, 4.5000, 4.5000, 4.5000, 4.5000, 4.5000, 4.5000,\n",
      "        4.5000, 4.5000, 4.5000, 4.5000, 4.5000, 4.5000, 4.5000, 4.5000, 4.5000,\n",
      "        4.5000, 4.5000, 4.5000, 4.5000, 4.5000, 4.5000, 4.5000, 4.5000, 4.5000,\n",
      "        4.5000, 4.5000, 4.5000, 4.5000, 4.5000, 4.5000, 4.5000, 4.5000, 4.5000,\n",
      "        4.5000, 4.5000, 4.5000, 4.5000, 4.5000, 4.5000, 4.5000, 4.5000, 4.5000])\n"
     ]
    }
   ],
   "source": [
    "arr = torch.arange(54, dtype=torch.float32, requires_grad=True)\n",
    "arr2 = arr.reshape((3, 2, 9))\n",
    "out = arr2.sum((2, 0))\n",
    "(out.mean()*9).backward()\n",
    "print(out, out.shape, arr.grad.shape)\n",
    "print(arr.grad)"
   ]
  },
  {
   "cell_type": "code",
   "execution_count": null,
   "metadata": {},
   "outputs": [
    {
     "data": {
      "text/plain": [
       "(array([[[2., 2., 2.]]]), array([[[2., 2., 2.]]]), array([[[2., 2., 2.]]]))"
      ]
     },
     "execution_count": 6,
     "metadata": {},
     "output_type": "execute_result"
    }
   ],
   "source": [
    "arr1 = my.ones((1,1,3), requires_grad=True)\n",
    "arr2 = my.zeros((1,1,3), requires_grad=True)\n",
    "arr3 = my.full((1,1,3), 3, requires_grad=True)\n",
    "stack = my.stack([arr1, arr2, arr3], 0)\n",
    "concat = my.concat([arr1, arr2, arr3], 0)\n",
    "stack.sum().backward()\n",
    "concat.sum().backward()\n",
    "\n",
    "arr1.grad, arr2.grad, arr3.grad"
   ]
  },
  {
   "cell_type": "code",
   "execution_count": null,
   "metadata": {},
   "outputs": [
    {
     "data": {
      "text/plain": [
       "(tensor([[[2., 2., 2.]]]), tensor([[[2., 2., 2.]]]), tensor([[[2., 2., 2.]]]))"
      ]
     },
     "execution_count": 7,
     "metadata": {},
     "output_type": "execute_result"
    }
   ],
   "source": [
    "arr1 = torch.ones((1,1,3), requires_grad=True)\n",
    "arr2 = torch.zeros((1,1,3), requires_grad=True)\n",
    "arr3 = torch.full((1,1,3), 3, dtype=torch.float32, requires_grad=True)\n",
    "stack = torch.stack([arr1, arr2, arr3], 0)\n",
    "concat = torch.concat([arr1, arr2, arr3], 0)\n",
    "stack.sum().backward()\n",
    "concat.sum().backward()\n",
    "\n",
    "arr1.grad, arr2.grad, arr3.grad"
   ]
  },
  {
   "cell_type": "markdown",
   "metadata": {},
   "source": [
    "# Convolution 연산 테스트\n",
    "\n",
    "- Torch와의 Gradient, Output 비교\n",
    "\n",
    "- Padding(0, 1, 2) 에서의 비교\n",
    "\n",
    "- Kernel_size (2, 3) 에서 비교\n",
    "\n",
    "- Stride (1, 2) 에서 비교\n",
    "\n",
    "- Non-Batch, Batch 에서 비교\n",
    "\n",
    "- Backward 단계에서 연산 시간이 오래 걸려 Convolution grad function 구현 및 테스트\n",
    "\n",
    "- Conv1d, Conv2d 테스트"
   ]
  },
  {
   "cell_type": "code",
   "execution_count": null,
   "metadata": {},
   "outputs": [],
   "source": [
    "import numpy as np\n",
    "import src as my\n",
    "import torch\n",
    "import torch.nn as nn\n"
   ]
  },
  {
   "cell_type": "code",
   "execution_count": null,
   "metadata": {},
   "outputs": [
    {
     "name": "stdout",
     "output_type": "stream",
     "text": [
      "(1, 3)\n"
     ]
    },
    {
     "data": {
      "text/plain": [
       "Data:13419.0, requrired_grad:True"
      ]
     },
     "execution_count": 2,
     "metadata": {},
     "output_type": "execute_result"
    }
   ],
   "source": [
    "\n",
    "class mymodel(my.layers.Module):\n",
    "    def __init__(self):\n",
    "        self.l1 = my.layers.Conv1d(2, 4, 3, 2, padding=2, bias=True)\n",
    "        self.l2 = my.layers.Conv1d(4, 4, 3, 2, padding=2, bias=True)\n",
    "        self.l3 = my.layers.Conv1d(4, 4, 3, 2, padding=2, bias=True)\n",
    "        self.l4 = my.layers.Conv1d(4, 1, 3, 2, padding=2, bias=True)\n",
    "\n",
    "    def forward(self,x):\n",
    "        out = self.l1(x)\n",
    "        out = self.l2(out)\n",
    "        out = self.l3(out)\n",
    "        out = self.l4(out)\n",
    "        print(out.shape)\n",
    "        return out.sum()\n",
    "model = mymodel()\n",
    "x = my.ones((2, 18))\n",
    "\n",
    "out = model(x)\n",
    "out.backward()\n",
    "out"
   ]
  },
  {
   "cell_type": "code",
   "execution_count": null,
   "metadata": {},
   "outputs": [
    {
     "name": "stdout",
     "output_type": "stream",
     "text": [
      "[[[448.0 448.0 496.0]\n",
      "  [448.0 448.0 496.0]]\n",
      "\n",
      " [[448.0 448.0 496.0]\n",
      "  [448.0 448.0 496.0]]\n",
      "\n",
      " [[448.0 448.0 496.0]\n",
      "  [448.0 448.0 496.0]]\n",
      "\n",
      " [[448.0 448.0 496.0]\n",
      "  [448.0 448.0 496.0]]]\n",
      "[[512.]\n",
      " [512.]\n",
      " [512.]\n",
      " [512.]]\n",
      "[[[264.0 272.0 288.0]\n",
      "  [264.0 272.0 288.0]\n",
      "  [264.0 272.0 288.0]\n",
      "  [264.0 272.0 288.0]]\n",
      "\n",
      " [[264.0 272.0 288.0]\n",
      "  [264.0 272.0 288.0]\n",
      "  [264.0 272.0 288.0]\n",
      "  [264.0 272.0 288.0]]\n",
      "\n",
      " [[264.0 272.0 288.0]\n",
      "  [264.0 272.0 288.0]\n",
      "  [264.0 272.0 288.0]\n",
      "  [264.0 272.0 288.0]]\n",
      "\n",
      " [[264.0 272.0 288.0]\n",
      "  [264.0 272.0 288.0]\n",
      "  [264.0 272.0 288.0]\n",
      "  [264.0 272.0 288.0]]]\n",
      "[[52.]\n",
      " [52.]\n",
      " [52.]\n",
      " [52.]]\n",
      "[[[268.0 288.0 281.0]\n",
      "  [268.0 288.0 281.0]\n",
      "  [268.0 288.0 281.0]\n",
      "  [268.0 288.0 281.0]]\n",
      "\n",
      " [[268.0 288.0 281.0]\n",
      "  [268.0 288.0 281.0]\n",
      "  [268.0 288.0 281.0]\n",
      "  [268.0 288.0 281.0]]\n",
      "\n",
      " [[268.0 288.0 281.0]\n",
      "  [268.0 288.0 281.0]\n",
      "  [268.0 288.0 281.0]\n",
      "  [268.0 288.0 281.0]]\n",
      "\n",
      " [[268.0 288.0 281.0]\n",
      "  [268.0 288.0 281.0]\n",
      "  [268.0 288.0 281.0]\n",
      "  [268.0 288.0 281.0]]]\n",
      "[[6.]\n",
      " [6.]\n",
      " [6.]\n",
      " [6.]]\n",
      "[[[1074.0 1206.0 1074.0]\n",
      "  [1074.0 1206.0 1074.0]\n",
      "  [1074.0 1206.0 1074.0]\n",
      "  [1074.0 1206.0 1074.0]]]\n",
      "[[3.]]\n"
     ]
    }
   ],
   "source": [
    "\n",
    "print(model.l1.weight.grad)\n",
    "print(model.l1.bias.grad)\n",
    "print(model.l2.weight.grad)\n",
    "print(model.l2.bias.grad)\n",
    "print(model.l3.weight.grad)\n",
    "print(model.l3.bias.grad)\n",
    "print(model.l4.weight.grad)\n",
    "print(model.l4.bias.grad)\n"
   ]
  },
  {
   "cell_type": "code",
   "execution_count": null,
   "metadata": {},
   "outputs": [
    {
     "name": "stdout",
     "output_type": "stream",
     "text": [
      "torch.Size([1, 3])\n"
     ]
    },
    {
     "data": {
      "text/plain": [
       "tensor(13419., grad_fn=<SumBackward0>)"
      ]
     },
     "execution_count": 4,
     "metadata": {},
     "output_type": "execute_result"
    }
   ],
   "source": [
    "\n",
    "class mymodel(nn.Module):\n",
    "    def __init__(self):\n",
    "        super().__init__()\n",
    "        self.l1 = nn.Conv1d(2, 4, 3, 2, padding=2, bias=True)\n",
    "        self.l2 = nn.Conv1d(4, 4, 3, 2, padding=2, bias=True)\n",
    "        self.l3 = nn.Conv1d(4, 4, 3, 2, padding=2, bias=True)\n",
    "        self.l4 = nn.Conv1d(4, 1, 3, 2, padding=2, bias=True)\n",
    "    \n",
    "        self._initialize_weights()\n",
    "\n",
    "    def _initialize_weights(self):\n",
    "        for layer in self.children():\n",
    "            if isinstance(layer, nn.Conv1d):\n",
    "                nn.init.constant_(layer.weight, 1)  \n",
    "                if layer.bias is not None:\n",
    "                    nn.init.constant_(layer.bias, 1) \n",
    "\n",
    "    def forward(self,x):\n",
    "        out = self.l1(x)\n",
    "        out = self.l2(out)\n",
    "        out = self.l3(out)\n",
    "        out = self.l4(out)\n",
    "        print(out.shape)\n",
    "        return out.sum()\n",
    "    \n",
    "\n",
    "model = mymodel()\n",
    "x = torch.ones((2, 18))\n",
    "out = model(x)\n",
    "out.backward()\n",
    "out"
   ]
  },
  {
   "cell_type": "code",
   "execution_count": null,
   "metadata": {},
   "outputs": [
    {
     "name": "stdout",
     "output_type": "stream",
     "text": [
      "tensor([[[448., 448., 496.],\n",
      "         [448., 448., 496.]],\n",
      "\n",
      "        [[448., 448., 496.],\n",
      "         [448., 448., 496.]],\n",
      "\n",
      "        [[448., 448., 496.],\n",
      "         [448., 448., 496.]],\n",
      "\n",
      "        [[448., 448., 496.],\n",
      "         [448., 448., 496.]]])\n",
      "tensor([512., 512., 512., 512.])\n",
      "tensor([[[264., 272., 288.],\n",
      "         [264., 272., 288.],\n",
      "         [264., 272., 288.],\n",
      "         [264., 272., 288.]],\n",
      "\n",
      "        [[264., 272., 288.],\n",
      "         [264., 272., 288.],\n",
      "         [264., 272., 288.],\n",
      "         [264., 272., 288.]],\n",
      "\n",
      "        [[264., 272., 288.],\n",
      "         [264., 272., 288.],\n",
      "         [264., 272., 288.],\n",
      "         [264., 272., 288.]],\n",
      "\n",
      "        [[264., 272., 288.],\n",
      "         [264., 272., 288.],\n",
      "         [264., 272., 288.],\n",
      "         [264., 272., 288.]]])\n",
      "tensor([52., 52., 52., 52.])\n",
      "tensor([[[268., 288., 281.],\n",
      "         [268., 288., 281.],\n",
      "         [268., 288., 281.],\n",
      "         [268., 288., 281.]],\n",
      "\n",
      "        [[268., 288., 281.],\n",
      "         [268., 288., 281.],\n",
      "         [268., 288., 281.],\n",
      "         [268., 288., 281.]],\n",
      "\n",
      "        [[268., 288., 281.],\n",
      "         [268., 288., 281.],\n",
      "         [268., 288., 281.],\n",
      "         [268., 288., 281.]],\n",
      "\n",
      "        [[268., 288., 281.],\n",
      "         [268., 288., 281.],\n",
      "         [268., 288., 281.],\n",
      "         [268., 288., 281.]]])\n",
      "tensor([6., 6., 6., 6.])\n",
      "tensor([[[1074., 1206., 1074.],\n",
      "         [1074., 1206., 1074.],\n",
      "         [1074., 1206., 1074.],\n",
      "         [1074., 1206., 1074.]]])\n",
      "tensor([3.])\n"
     ]
    }
   ],
   "source": [
    "print(model.l1.weight.grad)\n",
    "print(model.l1.bias.grad)\n",
    "print(model.l2.weight.grad)\n",
    "print(model.l2.bias.grad)\n",
    "print(model.l3.weight.grad)\n",
    "print(model.l3.bias.grad)\n",
    "print(model.l4.weight.grad)\n",
    "print(model.l4.bias.grad)"
   ]
  },
  {
   "cell_type": "code",
   "execution_count": null,
   "metadata": {},
   "outputs": [
    {
     "name": "stdout",
     "output_type": "stream",
     "text": [
      "(3, 1, 4, 3)\n"
     ]
    },
    {
     "data": {
      "text/plain": [
       "Data:5398476.0, requrired_grad:True"
      ]
     },
     "execution_count": 6,
     "metadata": {},
     "output_type": "execute_result"
    }
   ],
   "source": [
    "\n",
    "class mymodel(my.layers.Module):\n",
    "    def __init__(self):\n",
    "        self.l1 = my.layers.Conv2d(2, 4, 3, 2, padding=2, bias=True)\n",
    "        self.l2 = my.layers.Conv2d(4, 4, 3, 2, padding=2, bias=True)\n",
    "        self.l3 = my.layers.Conv2d(4, 4, 3, 2, padding=2, bias=True)\n",
    "        self.l4 = my.layers.Conv2d(4, 1, 3, 2, padding=2, bias=True)\n",
    "\n",
    "    def forward(self,x):\n",
    "        out = self.l1(x)\n",
    "        out = self.l2(out)\n",
    "        out = self.l3(out)\n",
    "        out = self.l4(out)\n",
    "        print(out.shape)\n",
    "        return out.sum()\n",
    "model = mymodel()\n",
    "x = my.ones((3, 2, 32, 16))\n",
    "\n",
    "out = model(x)\n",
    "out.backward()\n",
    "out"
   ]
  },
  {
   "cell_type": "code",
   "execution_count": null,
   "metadata": {},
   "outputs": [
    {
     "name": "stdout",
     "output_type": "stream",
     "text": [
      "[[[[69984. 69984. 69984.]\n",
      "   [69984. 69984. 69984.]\n",
      "   [69984. 69984. 69984.]]\n",
      "\n",
      "  [[69984. 69984. 69984.]\n",
      "   [69984. 69984. 69984.]\n",
      "   [69984. 69984. 69984.]]]\n",
      "\n",
      "\n",
      " [[[69984. 69984. 69984.]\n",
      "   [69984. 69984. 69984.]\n",
      "   [69984. 69984. 69984.]]\n",
      "\n",
      "  [[69984. 69984. 69984.]\n",
      "   [69984. 69984. 69984.]\n",
      "   [69984. 69984. 69984.]]]\n",
      "\n",
      "\n",
      " [[[69984. 69984. 69984.]\n",
      "   [69984. 69984. 69984.]\n",
      "   [69984. 69984. 69984.]]\n",
      "\n",
      "  [[69984. 69984. 69984.]\n",
      "   [69984. 69984. 69984.]\n",
      "   [69984. 69984. 69984.]]]\n",
      "\n",
      "\n",
      " [[[69984. 69984. 69984.]\n",
      "   [69984. 69984. 69984.]\n",
      "   [69984. 69984. 69984.]]\n",
      "\n",
      "  [[69984. 69984. 69984.]\n",
      "   [69984. 69984. 69984.]\n",
      "   [69984. 69984. 69984.]]]]\n",
      "[[[86304.]]\n",
      "\n",
      " [[86304.]]\n",
      "\n",
      " [[86304.]]\n",
      "\n",
      " [[86304.]]]\n",
      "[[[[37272. 37044. 37728.]\n",
      "   [37152. 36936. 37584.]\n",
      "   [37512. 37260. 38016.]]\n",
      "\n",
      "  [[37272. 37044. 37728.]\n",
      "   [37152. 36936. 37584.]\n",
      "   [37512. 37260. 38016.]]\n",
      "\n",
      "  [[37272. 37044. 37728.]\n",
      "   [37152. 36936. 37584.]\n",
      "   [37512. 37260. 38016.]]\n",
      "\n",
      "  [[37272. 37044. 37728.]\n",
      "   [37152. 36936. 37584.]\n",
      "   [37512. 37260. 38016.]]]\n",
      "\n",
      "\n",
      " [[[37272. 37044. 37728.]\n",
      "   [37152. 36936. 37584.]\n",
      "   [37512. 37260. 38016.]]\n",
      "\n",
      "  [[37272. 37044. 37728.]\n",
      "   [37152. 36936. 37584.]\n",
      "   [37512. 37260. 38016.]]\n",
      "\n",
      "  [[37272. 37044. 37728.]\n",
      "   [37152. 36936. 37584.]\n",
      "   [37512. 37260. 38016.]]\n",
      "\n",
      "  [[37272. 37044. 37728.]\n",
      "   [37152. 36936. 37584.]\n",
      "   [37512. 37260. 38016.]]]\n",
      "\n",
      "\n",
      " [[[37272. 37044. 37728.]\n",
      "   [37152. 36936. 37584.]\n",
      "   [37512. 37260. 38016.]]\n",
      "\n",
      "  [[37272. 37044. 37728.]\n",
      "   [37152. 36936. 37584.]\n",
      "   [37512. 37260. 38016.]]\n",
      "\n",
      "  [[37272. 37044. 37728.]\n",
      "   [37152. 36936. 37584.]\n",
      "   [37512. 37260. 38016.]]\n",
      "\n",
      "  [[37272. 37044. 37728.]\n",
      "   [37152. 36936. 37584.]\n",
      "   [37512. 37260. 38016.]]]\n",
      "\n",
      "\n",
      " [[[37272. 37044. 37728.]\n",
      "   [37152. 36936. 37584.]\n",
      "   [37512. 37260. 38016.]]\n",
      "\n",
      "  [[37272. 37044. 37728.]\n",
      "   [37152. 36936. 37584.]\n",
      "   [37512. 37260. 38016.]]\n",
      "\n",
      "  [[37272. 37044. 37728.]\n",
      "   [37152. 36936. 37584.]\n",
      "   [37512. 37260. 38016.]]\n",
      "\n",
      "  [[37272. 37044. 37728.]\n",
      "   [37152. 36936. 37584.]\n",
      "   [37512. 37260. 38016.]]]]\n",
      "[[[3432.]]\n",
      "\n",
      " [[3432.]]\n",
      "\n",
      " [[3432.]]\n",
      "\n",
      " [[3432.]]]\n",
      "[[[[37356. 37356. 37605.]\n",
      "   [37356. 37356. 37605.]\n",
      "   [37488. 37488. 37752.]]\n",
      "\n",
      "  [[37356. 37356. 37605.]\n",
      "   [37356. 37356. 37605.]\n",
      "   [37488. 37488. 37752.]]\n",
      "\n",
      "  [[37356. 37356. 37605.]\n",
      "   [37356. 37356. 37605.]\n",
      "   [37488. 37488. 37752.]]\n",
      "\n",
      "  [[37356. 37356. 37605.]\n",
      "   [37356. 37356. 37605.]\n",
      "   [37488. 37488. 37752.]]]\n",
      "\n",
      "\n",
      " [[[37356. 37356. 37605.]\n",
      "   [37356. 37356. 37605.]\n",
      "   [37488. 37488. 37752.]]\n",
      "\n",
      "  [[37356. 37356. 37605.]\n",
      "   [37356. 37356. 37605.]\n",
      "   [37488. 37488. 37752.]]\n",
      "\n",
      "  [[37356. 37356. 37605.]\n",
      "   [37356. 37356. 37605.]\n",
      "   [37488. 37488. 37752.]]\n",
      "\n",
      "  [[37356. 37356. 37605.]\n",
      "   [37356. 37356. 37605.]\n",
      "   [37488. 37488. 37752.]]]\n",
      "\n",
      "\n",
      " [[[37356. 37356. 37605.]\n",
      "   [37356. 37356. 37605.]\n",
      "   [37488. 37488. 37752.]]\n",
      "\n",
      "  [[37356. 37356. 37605.]\n",
      "   [37356. 37356. 37605.]\n",
      "   [37488. 37488. 37752.]]\n",
      "\n",
      "  [[37356. 37356. 37605.]\n",
      "   [37356. 37356. 37605.]\n",
      "   [37488. 37488. 37752.]]\n",
      "\n",
      "  [[37356. 37356. 37605.]\n",
      "   [37356. 37356. 37605.]\n",
      "   [37488. 37488. 37752.]]]\n",
      "\n",
      "\n",
      " [[[37356. 37356. 37605.]\n",
      "   [37356. 37356. 37605.]\n",
      "   [37488. 37488. 37752.]]\n",
      "\n",
      "  [[37356. 37356. 37605.]\n",
      "   [37356. 37356. 37605.]\n",
      "   [37488. 37488. 37752.]]\n",
      "\n",
      "  [[37356. 37356. 37605.]\n",
      "   [37356. 37356. 37605.]\n",
      "   [37488. 37488. 37752.]]\n",
      "\n",
      "  [[37356. 37356. 37605.]\n",
      "   [37356. 37356. 37605.]\n",
      "   [37488. 37488. 37752.]]]]\n",
      "[[[162.]]\n",
      "\n",
      " [[162.]]\n",
      "\n",
      " [[162.]]\n",
      "\n",
      " [[162.]]]\n",
      "[[[[149442. 150438. 149442.]\n",
      "   [149970. 151026. 149970.]\n",
      "   [149442. 150438. 149442.]]\n",
      "\n",
      "  [[149442. 150438. 149442.]\n",
      "   [149970. 151026. 149970.]\n",
      "   [149442. 150438. 149442.]]\n",
      "\n",
      "  [[149442. 150438. 149442.]\n",
      "   [149970. 151026. 149970.]\n",
      "   [149442. 150438. 149442.]]\n",
      "\n",
      "  [[149442. 150438. 149442.]\n",
      "   [149970. 151026. 149970.]\n",
      "   [149442. 150438. 149442.]]]]\n",
      "[[[36.]]]\n"
     ]
    }
   ],
   "source": [
    "\n",
    "print(model.l1.weight.grad)\n",
    "print(model.l1.bias.grad)\n",
    "print(model.l2.weight.grad)\n",
    "print(model.l2.bias.grad)\n",
    "print(model.l3.weight.grad)\n",
    "print(model.l3.bias.grad)\n",
    "print(model.l4.weight.grad)\n",
    "print(model.l4.bias.grad)\n"
   ]
  },
  {
   "cell_type": "code",
   "execution_count": null,
   "metadata": {},
   "outputs": [
    {
     "name": "stdout",
     "output_type": "stream",
     "text": [
      "torch.Size([3, 1, 4, 3])\n"
     ]
    },
    {
     "data": {
      "text/plain": [
       "tensor(5398476., grad_fn=<SumBackward0>)"
      ]
     },
     "execution_count": 8,
     "metadata": {},
     "output_type": "execute_result"
    }
   ],
   "source": [
    "\n",
    "class mymodel(nn.Module):\n",
    "    def __init__(self):\n",
    "        super().__init__()\n",
    "        self.l1 = nn.Conv2d(2, 4, 3, 2, padding=2, bias=True)\n",
    "        self.l2 = nn.Conv2d(4, 4, 3, 2, padding=2, bias=True)\n",
    "        self.l3 = nn.Conv2d(4, 4, 3, 2, padding=2, bias=True)\n",
    "        self.l4 = nn.Conv2d(4, 1, 3, 2, padding=2, bias=True)\n",
    "    \n",
    "        self._initialize_weights()\n",
    "\n",
    "    def _initialize_weights(self):\n",
    "        for layer in self.children():\n",
    "            if isinstance(layer, nn.Conv2d):\n",
    "                nn.init.constant_(layer.weight, 1)  \n",
    "                if layer.bias is not None:\n",
    "                    nn.init.constant_(layer.bias, 1) \n",
    "\n",
    "    def forward(self,x):\n",
    "        out = self.l1(x)\n",
    "        out = self.l2(out)\n",
    "        out = self.l3(out)\n",
    "        out = self.l4(out)\n",
    "        print(out.shape)\n",
    "        return out.sum()\n",
    "    \n",
    "\n",
    "model = mymodel()\n",
    "x = torch.ones((3, 2, 32, 16))\n",
    "out = model(x)\n",
    "out.backward()\n",
    "out"
   ]
  },
  {
   "cell_type": "code",
   "execution_count": null,
   "metadata": {},
   "outputs": [
    {
     "name": "stdout",
     "output_type": "stream",
     "text": [
      "tensor([[[[69984., 69984., 69984.],\n",
      "          [69984., 69984., 69984.],\n",
      "          [69984., 69984., 69984.]],\n",
      "\n",
      "         [[69984., 69984., 69984.],\n",
      "          [69984., 69984., 69984.],\n",
      "          [69984., 69984., 69984.]]],\n",
      "\n",
      "\n",
      "        [[[69984., 69984., 69984.],\n",
      "          [69984., 69984., 69984.],\n",
      "          [69984., 69984., 69984.]],\n",
      "\n",
      "         [[69984., 69984., 69984.],\n",
      "          [69984., 69984., 69984.],\n",
      "          [69984., 69984., 69984.]]],\n",
      "\n",
      "\n",
      "        [[[69984., 69984., 69984.],\n",
      "          [69984., 69984., 69984.],\n",
      "          [69984., 69984., 69984.]],\n",
      "\n",
      "         [[69984., 69984., 69984.],\n",
      "          [69984., 69984., 69984.],\n",
      "          [69984., 69984., 69984.]]],\n",
      "\n",
      "\n",
      "        [[[69984., 69984., 69984.],\n",
      "          [69984., 69984., 69984.],\n",
      "          [69984., 69984., 69984.]],\n",
      "\n",
      "         [[69984., 69984., 69984.],\n",
      "          [69984., 69984., 69984.],\n",
      "          [69984., 69984., 69984.]]]])\n",
      "tensor([86304., 86304., 86304., 86304.])\n",
      "tensor([[[[37272., 37044., 37728.],\n",
      "          [37152., 36936., 37584.],\n",
      "          [37512., 37260., 38016.]],\n",
      "\n",
      "         [[37272., 37044., 37728.],\n",
      "          [37152., 36936., 37584.],\n",
      "          [37512., 37260., 38016.]],\n",
      "\n",
      "         [[37272., 37044., 37728.],\n",
      "          [37152., 36936., 37584.],\n",
      "          [37512., 37260., 38016.]],\n",
      "\n",
      "         [[37272., 37044., 37728.],\n",
      "          [37152., 36936., 37584.],\n",
      "          [37512., 37260., 38016.]]],\n",
      "\n",
      "\n",
      "        [[[37272., 37044., 37728.],\n",
      "          [37152., 36936., 37584.],\n",
      "          [37512., 37260., 38016.]],\n",
      "\n",
      "         [[37272., 37044., 37728.],\n",
      "          [37152., 36936., 37584.],\n",
      "          [37512., 37260., 38016.]],\n",
      "\n",
      "         [[37272., 37044., 37728.],\n",
      "          [37152., 36936., 37584.],\n",
      "          [37512., 37260., 38016.]],\n",
      "\n",
      "         [[37272., 37044., 37728.],\n",
      "          [37152., 36936., 37584.],\n",
      "          [37512., 37260., 38016.]]],\n",
      "\n",
      "\n",
      "        [[[37272., 37044., 37728.],\n",
      "          [37152., 36936., 37584.],\n",
      "          [37512., 37260., 38016.]],\n",
      "\n",
      "         [[37272., 37044., 37728.],\n",
      "          [37152., 36936., 37584.],\n",
      "          [37512., 37260., 38016.]],\n",
      "\n",
      "         [[37272., 37044., 37728.],\n",
      "          [37152., 36936., 37584.],\n",
      "          [37512., 37260., 38016.]],\n",
      "\n",
      "         [[37272., 37044., 37728.],\n",
      "          [37152., 36936., 37584.],\n",
      "          [37512., 37260., 38016.]]],\n",
      "\n",
      "\n",
      "        [[[37272., 37044., 37728.],\n",
      "          [37152., 36936., 37584.],\n",
      "          [37512., 37260., 38016.]],\n",
      "\n",
      "         [[37272., 37044., 37728.],\n",
      "          [37152., 36936., 37584.],\n",
      "          [37512., 37260., 38016.]],\n",
      "\n",
      "         [[37272., 37044., 37728.],\n",
      "          [37152., 36936., 37584.],\n",
      "          [37512., 37260., 38016.]],\n",
      "\n",
      "         [[37272., 37044., 37728.],\n",
      "          [37152., 36936., 37584.],\n",
      "          [37512., 37260., 38016.]]]])\n",
      "tensor([3432., 3432., 3432., 3432.])\n",
      "tensor([[[[37356., 37356., 37605.],\n",
      "          [37356., 37356., 37605.],\n",
      "          [37488., 37488., 37752.]],\n",
      "\n",
      "         [[37356., 37356., 37605.],\n",
      "          [37356., 37356., 37605.],\n",
      "          [37488., 37488., 37752.]],\n",
      "\n",
      "         [[37356., 37356., 37605.],\n",
      "          [37356., 37356., 37605.],\n",
      "          [37488., 37488., 37752.]],\n",
      "\n",
      "         [[37356., 37356., 37605.],\n",
      "          [37356., 37356., 37605.],\n",
      "          [37488., 37488., 37752.]]],\n",
      "\n",
      "\n",
      "        [[[37356., 37356., 37605.],\n",
      "          [37356., 37356., 37605.],\n",
      "          [37488., 37488., 37752.]],\n",
      "\n",
      "         [[37356., 37356., 37605.],\n",
      "          [37356., 37356., 37605.],\n",
      "          [37488., 37488., 37752.]],\n",
      "\n",
      "         [[37356., 37356., 37605.],\n",
      "          [37356., 37356., 37605.],\n",
      "          [37488., 37488., 37752.]],\n",
      "\n",
      "         [[37356., 37356., 37605.],\n",
      "          [37356., 37356., 37605.],\n",
      "          [37488., 37488., 37752.]]],\n",
      "\n",
      "\n",
      "        [[[37356., 37356., 37605.],\n",
      "          [37356., 37356., 37605.],\n",
      "          [37488., 37488., 37752.]],\n",
      "\n",
      "         [[37356., 37356., 37605.],\n",
      "          [37356., 37356., 37605.],\n",
      "          [37488., 37488., 37752.]],\n",
      "\n",
      "         [[37356., 37356., 37605.],\n",
      "          [37356., 37356., 37605.],\n",
      "          [37488., 37488., 37752.]],\n",
      "\n",
      "         [[37356., 37356., 37605.],\n",
      "          [37356., 37356., 37605.],\n",
      "          [37488., 37488., 37752.]]],\n",
      "\n",
      "\n",
      "        [[[37356., 37356., 37605.],\n",
      "          [37356., 37356., 37605.],\n",
      "          [37488., 37488., 37752.]],\n",
      "\n",
      "         [[37356., 37356., 37605.],\n",
      "          [37356., 37356., 37605.],\n",
      "          [37488., 37488., 37752.]],\n",
      "\n",
      "         [[37356., 37356., 37605.],\n",
      "          [37356., 37356., 37605.],\n",
      "          [37488., 37488., 37752.]],\n",
      "\n",
      "         [[37356., 37356., 37605.],\n",
      "          [37356., 37356., 37605.],\n",
      "          [37488., 37488., 37752.]]]])\n",
      "tensor([162., 162., 162., 162.])\n",
      "tensor([[[[149442., 150438., 149442.],\n",
      "          [149970., 151026., 149970.],\n",
      "          [149442., 150438., 149442.]],\n",
      "\n",
      "         [[149442., 150438., 149442.],\n",
      "          [149970., 151026., 149970.],\n",
      "          [149442., 150438., 149442.]],\n",
      "\n",
      "         [[149442., 150438., 149442.],\n",
      "          [149970., 151026., 149970.],\n",
      "          [149442., 150438., 149442.]],\n",
      "\n",
      "         [[149442., 150438., 149442.],\n",
      "          [149970., 151026., 149970.],\n",
      "          [149442., 150438., 149442.]]]])\n",
      "tensor([36.])\n"
     ]
    }
   ],
   "source": [
    "print(model.l1.weight.grad)\n",
    "print(model.l1.bias.grad)\n",
    "print(model.l2.weight.grad)\n",
    "print(model.l2.bias.grad)\n",
    "print(model.l3.weight.grad)\n",
    "print(model.l3.bias.grad)\n",
    "print(model.l4.weight.grad)\n",
    "print(model.l4.bias.grad)"
   ]
  },
  {
   "cell_type": "markdown",
   "metadata": {},
   "source": [
    "# Max, Min 연산 테스트\n",
    "\n",
    "- 기존의 ReLU 연산인 x[x<0] = 0 과정에서 Set 연산의 Inplace 연산에 로직 문제가 있음\n",
    "\n",
    "    - 잠시 이 문제를 보완 해주기 위해 Max, Min Grad 연산을 구현"
   ]
  },
  {
   "cell_type": "code",
   "execution_count": null,
   "metadata": {},
   "outputs": [],
   "source": [
    "import src as my\n",
    "from src.parameter import operation\n",
    "from src.gradients.manipulate import Max, Min"
   ]
  },
  {
   "cell_type": "code",
   "execution_count": null,
   "metadata": {},
   "outputs": [
    {
     "name": "stdout",
     "output_type": "stream",
     "text": [
      "Data:[[1. 1.]\n",
      " [1. 1.]\n",
      " [1. 1.]], requrired_grad:True Data:[[0 1]\n",
      " [2 3]\n",
      " [4 5]], requrired_grad:True\n",
      "Data:[[1. 1.]\n",
      " [2. 3.]\n",
      " [4. 5.]], requrired_grad:True\n",
      "Data:[[1. 1.]\n",
      " [2. 3.]\n",
      " [4. 5.]], requrired_grad:True\n",
      "[[1. 1.]\n",
      " [0. 0.]\n",
      " [0. 0.]] [0. 0. 1. 1. 1. 1.]\n"
     ]
    }
   ],
   "source": [
    "arr1 = my.ones((3, 2), True)\n",
    "arr2 = my.arange((3 * 2), requires_grad=True)\n",
    "arr2_ = arr2.reshape((3, 2))\n",
    "print(arr1, arr2_)\n",
    "\n",
    "maximum = operation(Max, arr1, arr2_)\n",
    "print(maximum)\n",
    "maximum.sum().backward()\n",
    "print(maximum)\n",
    "print(arr1.grad, arr2.grad)"
   ]
  },
  {
   "cell_type": "code",
   "execution_count": null,
   "metadata": {},
   "outputs": [
    {
     "name": "stdout",
     "output_type": "stream",
     "text": [
      "Data:[[1. 1.]\n",
      " [1. 1.]\n",
      " [1. 1.]], requrired_grad:True\n",
      "Data:[[0 1]\n",
      " [2 3]\n",
      " [4 5]], requrired_grad:True\n",
      "\n",
      "Data:[[0. 1.]\n",
      " [1. 1.]\n",
      " [1. 1.]], requrired_grad:True\n",
      "[[0. 1.]\n",
      " [1. 1.]\n",
      " [1. 1.]] [1. 0. 0. 0. 0. 0.]\n"
     ]
    }
   ],
   "source": [
    "arr1 = my.ones((3, 2), True)\n",
    "arr2 = my.arange((3 * 2), requires_grad=True)\n",
    "arr2_ = arr2.reshape((3, 2))\n",
    "print(arr1)\n",
    "print(arr2_)\n",
    "print()\n",
    "\n",
    "minimum = operation(Min, arr1, arr2_)\n",
    "minimum.sum().backward()\n",
    "print(minimum)\n",
    "print(arr1.grad, arr2.grad)"
   ]
  },
  {
   "cell_type": "markdown",
   "metadata": {},
   "source": [
    "# 데이터셋 학습 테스트\n"
   ]
  },
  {
   "cell_type": "markdown",
   "metadata": {},
   "source": [
    "## Boston (Regression, Linear)"
   ]
  },
  {
   "cell_type": "code",
   "execution_count": 1,
   "metadata": {},
   "outputs": [],
   "source": [
    "import numpy as np\n",
    "import src as my\n",
    "import matplotlib.pyplot as plt\n",
    "from dataset import *"
   ]
  },
  {
   "cell_type": "code",
   "execution_count": 7,
   "metadata": {},
   "outputs": [
    {
     "name": "stdout",
     "output_type": "stream",
     "text": [
      "(506, 13) (506,)\n"
     ]
    },
    {
     "data": {
      "text/plain": [
       "((379, 13), (379, 1), (127, 13), (127, 1))"
      ]
     },
     "execution_count": 7,
     "metadata": {},
     "output_type": "execute_result"
    }
   ],
   "source": [
    "x, y = boston()\n",
    "print(x.shape, y.shape)\n",
    "\n",
    "# Split\n",
    "train_idx = []\n",
    "test_idx =[]\n",
    "for i in range(len(x)):\n",
    "    if i%4!=0:\n",
    "        train_idx.append(i)\n",
    "    else:\n",
    "        test_idx.append(i)\n",
    "\n",
    "train_x = x[train_idx]\n",
    "train_y = y[train_idx, np.newaxis]\n",
    "test_x = x[test_idx]\n",
    "test_y = y[test_idx, np.newaxis]\n",
    "\n",
    "# Noramlize\n",
    "min_val_x, max_val_x = train_x.min(0), train_x.max(0)\n",
    "min_val_y, max_val_y = train_y.min(0), train_y.max(0)\n",
    "\n",
    "train_x = (train_x-min_val_x)/(max_val_x-min_val_x)\n",
    "test_x = (test_x-min_val_x)/(max_val_x-min_val_x)\n",
    "\n",
    "train_y = (train_y-min_val_y)/(max_val_y-min_val_y)\n",
    "\n",
    "# Wrap with Param object\n",
    "train_x = my.Param(train_x)\n",
    "train_y = my.Param(train_y)\n",
    "test_x = my.Param(test_x)\n",
    "test_y = my.Param(test_y)\n",
    "train_x.shape, train_y.shape, test_x.shape, test_y.shape"
   ]
  },
  {
   "cell_type": "code",
   "execution_count": 10,
   "metadata": {},
   "outputs": [
    {
     "name": "stdout",
     "output_type": "stream",
     "text": [
      "Data:0.0023701171599670324, requrired_grad:True\n"
     ]
    }
   ],
   "source": [
    "class Model(my.layers.Module):\n",
    "    def __init__(self):\n",
    "        self.l1 = my.layers.Linear(13, 32)\n",
    "        self.l2 = my.layers.Linear(32, 32)\n",
    "        self.l3 = my.layers.Linear(32, 32)\n",
    "        self.l4 = my.layers.Linear(32, 1)\n",
    "\n",
    "        self.activation = my.layers.ReLU()\n",
    "\n",
    "    def forward(self,x):\n",
    "        out = self.l1(x)\n",
    "        out = self.activation(out)\n",
    "        out = self.l2(out)\n",
    "        out = self.activation(out)\n",
    "        out = self.l3(out)\n",
    "        out = self.activation(out)\n",
    "        out = self.l4(out)\n",
    "        return out\n",
    "\n",
    "model = Model()\n",
    "optim = my.optimizers.Adam(model.parameters(), lr=1e-3)\n",
    "\n",
    "for i in range(1000):\n",
    "    pred = model(train_x)\n",
    "    loss = ((pred - train_y)**2).mean()\n",
    "    loss.backward()\n",
    "    optim.step()\n",
    "    optim.zero_grad()\n",
    "print(loss)"
   ]
  },
  {
   "cell_type": "code",
   "execution_count": 11,
   "metadata": {},
   "outputs": [
    {
     "data": {
      "image/png": "[encoded data removed]",
      "text/plain": [
       "<Figure size 1500x300 with 2 Axes>"
      ]
     },
     "metadata": {},
     "output_type": "display_data"
    }
   ],
   "source": [
    "\n",
    "pred_y = model(train_x)\n",
    "pred_y = pred_y*(max_val_y-min_val_y)+(min_val_y)\n",
    "orig_train_y = train_y*(max_val_y-min_val_y)+(min_val_y)\n",
    "train_mae = (abs(pred_y-orig_train_y).mean()).data\n",
    "plt.figure(figsize=(15, 3))\n",
    "plt.subplot(1, 2, 1)\n",
    "plt.title(f\"Boston Dataset (Train)\\nMAE: {train_mae}\")\n",
    "plt.plot(orig_train_y.data, label=\"True\")\n",
    "plt.plot(pred_y.data, label=\"Pred\")\n",
    "plt.legend()\n",
    "\n",
    "pred_y = model(test_x)\n",
    "pred_y = pred_y*(max_val_y-min_val_y)+(min_val_y)\n",
    "test_mae = (abs(pred_y-test_y).mean()).data\n",
    "\n",
    "plt.subplot(1, 2, 2)\n",
    "plt.title(f\"Boston Dataset (Test)\\nMAE: {test_mae}\")\n",
    "plt.plot(test_y.data, label=\"True\")\n",
    "plt.plot(pred_y.data, label=\"Pred\")\n",
    "plt.legend()\n",
    "plt.show()"
   ]
  },
  {
   "cell_type": "markdown",
   "metadata": {},
   "source": [
    "## Mnist (Classifcation, Conv2d)\n",
    "\n",
    "- Conv 연산의 속도에서 큰 차이를 보임 (약 100배)"
   ]
  },
  {
   "cell_type": "code",
   "execution_count": 1,
   "metadata": {},
   "outputs": [],
   "source": [
    "import numpy as np\n",
    "import src as my\n",
    "from dataset import *\n",
    "import tqdm\n",
    "import matplotlib.pyplot as plt"
   ]
  },
  {
   "cell_type": "code",
   "execution_count": 2,
   "metadata": {},
   "outputs": [
    {
     "name": "stdout",
     "output_type": "stream",
     "text": [
      "(60000, 28, 28) (60000,) (10000, 28, 28) (10000,)\n"
     ]
    },
    {
     "data": {
      "text/plain": [
       "((6000, 1, 28, 28), (6000, 10), (1000, 1, 28, 28), (1000, 10))"
      ]
     },
     "execution_count": 2,
     "metadata": {},
     "output_type": "execute_result"
    }
   ],
   "source": [
    "train_x, train_y, test_x, test_y = mnist()\n",
    "print(train_x.shape, train_y.shape, test_x.shape, test_y.shape)\n",
    "\n",
    "rand_idx = np.random.choice(np.arange(60000), 60000, replace=False)\n",
    "train_x = train_x[rand_idx, np.newaxis, ...].astype(np.float32())/255.\n",
    "test_x = test_x[:, np.newaxis, ...].astype(np.float32())/255.\n",
    "\n",
    "# One-hot encoding\n",
    "train_y = np.eye(10)[train_y][rand_idx].astype(np.float32())\n",
    "test_y = np.eye(10)[test_y].astype(np.float32())\n",
    "\n",
    "# Wrap with Param object\n",
    "train_x = my.Param(train_x[:6000])\n",
    "train_y = my.Param(train_y[:6000])\n",
    "test_x = my.Param(test_x[:1000])\n",
    "test_y = my.Param(test_y[:1000])\n",
    "train_x.shape, train_y.shape, test_x.shape, test_y.shape"
   ]
  },
  {
   "cell_type": "code",
   "execution_count": 4,
   "metadata": {},
   "outputs": [
    {
     "name": "stderr",
     "output_type": "stream",
     "text": [
      "Train_losses:0.137224/0.066796, Train_acc:0.750000/0.787333: 100%|██████████| 375/375 [03:32<00:00,  1.77it/s]\n"
     ]
    }
   ],
   "source": [
    "\n",
    "class Model(my.layers.Module):\n",
    "    def __init__(self):\n",
    "        self.l1 = my.layers.Conv2d(1, 16, 3, 1, 1)\n",
    "        self.pool1 = my.layers.Conv2d(16, 16, 2, 2)\n",
    "        self.l3 = my.layers.Conv2d(16, 16, 3, 1, 1)\n",
    "        self.pool2 = my.layers.Conv2d(16, 16, 2, 2)\n",
    "        self.l5 = my.layers.Conv2d(16, 16, 3, 1, 1)\n",
    "        self.pool3 = my.layers.Conv2d(16, 16, 2, 2)\n",
    "        self.activation = my.layers.ReLU()\n",
    "\n",
    "        self.head = my.layers.Linear(16*9, 10)\n",
    "        self.softmax = my.layers.Softmax()\n",
    "\n",
    "    def forward(self,x):\n",
    "        b, _, _, _ = x.shape\n",
    "        out = self.l1(x)\n",
    "        out = self.activation(out)\n",
    "        out = self.pool1(out)\n",
    "\n",
    "        out = self.l3(out)\n",
    "        out = self.activation(out)\n",
    "        out = self.pool2(out)\n",
    "\n",
    "        out = self.l5(out)\n",
    "        out = self.activation(out)\n",
    "        out = self.pool3(out)\n",
    "\n",
    "        out = out.reshape((b, -1))\n",
    "        out = self.head(out)\n",
    "        out = self.softmax(out)\n",
    "        return out\n",
    "\n",
    "model = Model()\n",
    "optim = my.optimizers.Adam(model.parameters(), lr=1e-3)\n",
    "\n",
    "def accuracy(pred, target):\n",
    "    pred = np.argmax(pred, 1)\n",
    "    target = np.argmax(target, 1)\n",
    "    return (pred==target).mean()\n",
    "\n",
    "def categorical_cross_entropy(y_true, y_pred):\n",
    "    return -(y_true * my.log(y_pred)).mean()\n",
    "\n",
    "batch_size = 16\n",
    "train_acc = []\n",
    "train_loss = []\n",
    "\n",
    "it = tqdm.tqdm(range(0, train_x.shape[0], batch_size))\n",
    "for idx in it:\n",
    "    pred = model(train_x[idx: idx+batch_size])\n",
    "    loss = categorical_cross_entropy(train_y[idx:idx+batch_size], pred)\n",
    "    train_acc.append(accuracy(pred.data, train_y.data[idx:idx+batch_size]))\n",
    "    train_loss.append(loss.data)\n",
    "    loss.backward()\n",
    "    optim.step()\n",
    "    optim.zero_grad()\n",
    "    it.set_description(desc=f\"Train_losses:{train_loss[-1]:03f}/{np.mean(train_loss):03f}, Train_acc:{train_acc[-1]:03f}/{np.mean(train_acc):03f}\")\n",
    "\n"
   ]
  },
  {
   "cell_type": "code",
   "execution_count": 5,
   "metadata": {},
   "outputs": [
    {
     "name": "stderr",
     "output_type": "stream",
     "text": [
      "Test_losses:0.015654/0.034398, Test_acc:1.000000/0.884921: 100%|██████████| 63/63 [00:14<00:00,  4.33it/s]\n"
     ]
    }
   ],
   "source": [
    "\n",
    "for p in model.parameters():\n",
    "    p.requires_grad = False\n",
    "\n",
    "test_acc = []\n",
    "test_loss = []\n",
    "\n",
    "it = tqdm.tqdm(range(0, test_x.shape[0], batch_size))\n",
    "for idx in it:\n",
    "    pred = model(test_x[idx: idx+batch_size])\n",
    "    loss = categorical_cross_entropy(test_y[idx:idx+batch_size], pred)\n",
    "    test_acc.append(accuracy(pred.data, test_y.data[idx:idx+batch_size]))\n",
    "    test_loss.append(loss.data)\n",
    "    it.set_description(desc=f\"Test_losses:{test_loss[-1]:03f}/{np.mean(test_loss):03f}, Test_acc:{test_acc[-1]:03f}/{np.mean(test_acc):03f}\")\n",
    "\n"
   ]
  },
  {
   "cell_type": "code",
   "execution_count": 6,
   "metadata": {},
   "outputs": [
    {
     "data": {
      "image/png": "[encoded data removed]",
      "text/plain": [
       "<Figure size 640x480 with 1 Axes>"
      ]
     },
     "metadata": {},
     "output_type": "display_data"
    }
   ],
   "source": [
    "\n",
    "plt.title(\"Train\")\n",
    "plt.plot(train_acc, label=\"Train Acc\")\n",
    "plt.plot(train_loss, label=\"Train Loss\")\n",
    "plt.legend()\n",
    "plt.show()"
   ]
  },
  {
   "cell_type": "code",
   "execution_count": 50,
   "metadata": {},
   "outputs": [
    {
     "data": {
      "image/png": "[encoded data removed]",
      "text/plain": [
       "<Figure size 1000x400 with 15 Axes>"
      ]
     },
     "metadata": {},
     "output_type": "display_data"
    }
   ],
   "source": [
    "num_lines = 3\n",
    "pred_per_line = 5\n",
    "pred = model(test_x[:pred_per_line*num_lines])\n",
    "plt.figure(figsize=(10, 4))\n",
    "plt.subplots_adjust(left=0, right=.5, top=2, bottom=.2)\n",
    "for i in range(num_lines):\n",
    "    for j in range(pred_per_line):\n",
    "        plt.subplot(pred_per_line, pred_per_line, i*pred_per_line+j+1)\n",
    "        plt.title(f\"Target:{np.argmax(test_y.data[i*pred_per_line+j])}\\nPred:{np.argmax(pred.data[i*pred_per_line+j])}\")\n",
    "        plt.imshow(test_x.data[i*pred_per_line+j, 0])\n",
    "        plt.gca().get_xaxis().set_visible(False)\n",
    "        plt.gca().get_yaxis().set_visible(False)\n",
    "plt.show()"
   ]
  },
  {
   "cell_type": "markdown",
   "metadata": {},
   "source": [
    "# Set Inplace 연산 테스트\n",
    "\n",
    "- Inplace 연산인 Set 로직은 연산 그래프(Computational Graph)의 구조를 망칠 가능성이 존재\n",
    "\n",
    "- 'Pytorch에서는 이를 어떻게 방지하는가?'를 바탕으로 해결방법 생각\n",
    "\n",
    "    - Pytorch는 연산과정에서 _version 변수를 두어 이런 과정을 보완\n",
    "\n",
    "- Version 관리 방법\n",
    "\n",
    "    1. 모든 노드는 생성시 _version 값을 0으로 가짐\n",
    "    \n",
    "    2. inplace 연산시 _version의 값을 증가시키고 ctx에 _version 정보를 기록\n",
    "\n",
    "    3. Backward 단계에서 각 노드별로 첫 연산 때의 _version 값과 현재 _version 값을 비교하여 다르다면 오류 발생\n",
    "\n",
    "        - 만일 a*b (MulBackward) 이후 a에 Set Inplace 연산을 한 경우 첫연산(Mul)의 _version(=0)과 현재의 _version(=1)과 다르기에 오류가 남"
   ]
  },
  {
   "cell_type": "code",
   "execution_count": 1,
   "metadata": {},
   "outputs": [],
   "source": [
    "import torch\n",
    "import src as my"
   ]
  },
  {
   "cell_type": "code",
   "execution_count": 2,
   "metadata": {},
   "outputs": [
    {
     "name": "stdout",
     "output_type": "stream",
     "text": [
      "0 0 0 0 0\n",
      "0 0 0 1 0\n"
     ]
    },
    {
     "ename": "RuntimeError",
     "evalue": "one of the variables needed for gradient computation has been modified by an inplace operation: [torch.FloatTensor [3]], which is output 0 of struct torch::autograd::CopySlices, is at version 1; expected version 0 instead. Hint: enable anomaly detection to find the operation that failed to compute its gradient, with torch.autograd.set_detect_anomaly(True).",
     "output_type": "error",
     "traceback": [
      "\u001b[1;31m---------------------------------------------------------------------------\u001b[0m",
      "\u001b[1;31mRuntimeError\u001b[0m                              Traceback (most recent call last)",
      "Cell \u001b[1;32mIn[2], line 13\u001b[0m\n\u001b[0;32m     11\u001b[0m \u001b[38;5;66;03m# 이때 z의 requires_grad = True가됨\u001b[39;00m\n\u001b[0;32m     12\u001b[0m \u001b[38;5;28mprint\u001b[39m(a\u001b[38;5;241m.\u001b[39m_version, x\u001b[38;5;241m.\u001b[39m_version, c\u001b[38;5;241m.\u001b[39m_version, a_\u001b[38;5;241m.\u001b[39m_version, y\u001b[38;5;241m.\u001b[39m_version)\n\u001b[1;32m---> 13\u001b[0m \u001b[43my\u001b[49m\u001b[38;5;241;43m.\u001b[39;49m\u001b[43msum\u001b[49m\u001b[43m(\u001b[49m\u001b[43m)\u001b[49m\u001b[38;5;241;43m.\u001b[39;49m\u001b[43mbackward\u001b[49m\u001b[43m(\u001b[49m\u001b[43m)\u001b[49m\n",
      "File \u001b[1;32md:\\anaconda3\\envs\\torch\\lib\\site-packages\\torch\\_tensor.py:522\u001b[0m, in \u001b[0;36mTensor.backward\u001b[1;34m(self, gradient, retain_graph, create_graph, inputs)\u001b[0m\n\u001b[0;32m    512\u001b[0m \u001b[38;5;28;01mif\u001b[39;00m has_torch_function_unary(\u001b[38;5;28mself\u001b[39m):\n\u001b[0;32m    513\u001b[0m     \u001b[38;5;28;01mreturn\u001b[39;00m handle_torch_function(\n\u001b[0;32m    514\u001b[0m         Tensor\u001b[38;5;241m.\u001b[39mbackward,\n\u001b[0;32m    515\u001b[0m         (\u001b[38;5;28mself\u001b[39m,),\n\u001b[1;32m   (...)\u001b[0m\n\u001b[0;32m    520\u001b[0m         inputs\u001b[38;5;241m=\u001b[39minputs,\n\u001b[0;32m    521\u001b[0m     )\n\u001b[1;32m--> 522\u001b[0m \u001b[43mtorch\u001b[49m\u001b[38;5;241;43m.\u001b[39;49m\u001b[43mautograd\u001b[49m\u001b[38;5;241;43m.\u001b[39;49m\u001b[43mbackward\u001b[49m\u001b[43m(\u001b[49m\n\u001b[0;32m    523\u001b[0m \u001b[43m    \u001b[49m\u001b[38;5;28;43mself\u001b[39;49m\u001b[43m,\u001b[49m\u001b[43m \u001b[49m\u001b[43mgradient\u001b[49m\u001b[43m,\u001b[49m\u001b[43m \u001b[49m\u001b[43mretain_graph\u001b[49m\u001b[43m,\u001b[49m\u001b[43m \u001b[49m\u001b[43mcreate_graph\u001b[49m\u001b[43m,\u001b[49m\u001b[43m \u001b[49m\u001b[43minputs\u001b[49m\u001b[38;5;241;43m=\u001b[39;49m\u001b[43minputs\u001b[49m\n\u001b[0;32m    524\u001b[0m \u001b[43m\u001b[49m\u001b[43m)\u001b[49m\n",
      "File \u001b[1;32md:\\anaconda3\\envs\\torch\\lib\\site-packages\\torch\\autograd\\__init__.py:266\u001b[0m, in \u001b[0;36mbackward\u001b[1;34m(tensors, grad_tensors, retain_graph, create_graph, grad_variables, inputs)\u001b[0m\n\u001b[0;32m    261\u001b[0m     retain_graph \u001b[38;5;241m=\u001b[39m create_graph\n\u001b[0;32m    263\u001b[0m \u001b[38;5;66;03m# The reason we repeat the same comment below is that\u001b[39;00m\n\u001b[0;32m    264\u001b[0m \u001b[38;5;66;03m# some Python versions print out the first line of a multi-line function\u001b[39;00m\n\u001b[0;32m    265\u001b[0m \u001b[38;5;66;03m# calls in the traceback and some print out the last line\u001b[39;00m\n\u001b[1;32m--> 266\u001b[0m \u001b[43mVariable\u001b[49m\u001b[38;5;241;43m.\u001b[39;49m\u001b[43m_execution_engine\u001b[49m\u001b[38;5;241;43m.\u001b[39;49m\u001b[43mrun_backward\u001b[49m\u001b[43m(\u001b[49m\u001b[43m  \u001b[49m\u001b[38;5;66;43;03m# Calls into the C++ engine to run the backward pass\u001b[39;49;00m\n\u001b[0;32m    267\u001b[0m \u001b[43m    \u001b[49m\u001b[43mtensors\u001b[49m\u001b[43m,\u001b[49m\n\u001b[0;32m    268\u001b[0m \u001b[43m    \u001b[49m\u001b[43mgrad_tensors_\u001b[49m\u001b[43m,\u001b[49m\n\u001b[0;32m    269\u001b[0m \u001b[43m    \u001b[49m\u001b[43mretain_graph\u001b[49m\u001b[43m,\u001b[49m\n\u001b[0;32m    270\u001b[0m \u001b[43m    \u001b[49m\u001b[43mcreate_graph\u001b[49m\u001b[43m,\u001b[49m\n\u001b[0;32m    271\u001b[0m \u001b[43m    \u001b[49m\u001b[43minputs\u001b[49m\u001b[43m,\u001b[49m\n\u001b[0;32m    272\u001b[0m \u001b[43m    \u001b[49m\u001b[43mallow_unreachable\u001b[49m\u001b[38;5;241;43m=\u001b[39;49m\u001b[38;5;28;43;01mTrue\u001b[39;49;00m\u001b[43m,\u001b[49m\n\u001b[0;32m    273\u001b[0m \u001b[43m    \u001b[49m\u001b[43maccumulate_grad\u001b[49m\u001b[38;5;241;43m=\u001b[39;49m\u001b[38;5;28;43;01mTrue\u001b[39;49;00m\u001b[43m,\u001b[49m\n\u001b[0;32m    274\u001b[0m \u001b[43m\u001b[49m\u001b[43m)\u001b[49m\n",
      "\u001b[1;31mRuntimeError\u001b[0m: one of the variables needed for gradient computation has been modified by an inplace operation: [torch.FloatTensor [3]], which is output 0 of struct torch::autograd::CopySlices, is at version 1; expected version 0 instead. Hint: enable anomaly detection to find the operation that failed to compute its gradient, with torch.autograd.set_detect_anomaly(True)."
     ]
    }
   ],
   "source": [
    "\n",
    "a= torch.tensor([1., 3., 5.], requires_grad=False)\n",
    "x = torch.tensor([5., 4., 3.], requires_grad=True)\n",
    "c = torch.tensor([5.], requires_grad=True)\n",
    "\n",
    "a_ = a*3 # 인덱싱과정에서 발생하는 leaf tensor 오류를 피하기 위함 \n",
    "\n",
    "y = a_*x # 이 과정에서 원래라면 x에는 값 [3, 9, 15] 가 Gradient로 흐르도록 설계 (Mul 연산이므로)\n",
    "\n",
    "print(a._version, x._version, c._version, a_._version, y._version)\n",
    "a_[2] = c  # Inplace Set 연산을 하게 되면서 a_[2]의 값이 변경됨 -> 이로인해 a_*x 의 역전파 과정에서 x에는 값 [3, 9, 5]가 Gradient로 흐르게 될 수 있음(값이 Copy 되지 않는 경우) \n",
    "# 이때 z의 requires_grad = True가됨\n",
    "print(a._version, x._version, c._version, a_._version, y._version)\n",
    "y.sum().backward()\n"
   ]
  },
  {
   "cell_type": "code",
   "execution_count": 3,
   "metadata": {},
   "outputs": [
    {
     "name": "stdout",
     "output_type": "stream",
     "text": [
      "0 0 0 0 0\n",
      "0 0 0 1 0\n"
     ]
    },
    {
     "ename": "RuntimeError",
     "evalue": "One of the differentiated Node appears to have been modified in-place since being used for gradient computation.",
     "output_type": "error",
     "traceback": [
      "\u001b[1;31m---------------------------------------------------------------------------\u001b[0m",
      "\u001b[1;31mRuntimeError\u001b[0m                              Traceback (most recent call last)",
      "Cell \u001b[1;32mIn[3], line 13\u001b[0m\n\u001b[0;32m     11\u001b[0m \u001b[38;5;66;03m# 이때 z의 requires_grad = True가됨\u001b[39;00m\n\u001b[0;32m     12\u001b[0m \u001b[38;5;28mprint\u001b[39m(a\u001b[38;5;241m.\u001b[39m_version, x\u001b[38;5;241m.\u001b[39m_version, c\u001b[38;5;241m.\u001b[39m_version, a_\u001b[38;5;241m.\u001b[39m_version, y\u001b[38;5;241m.\u001b[39m_version)\n\u001b[1;32m---> 13\u001b[0m \u001b[43my\u001b[49m\u001b[38;5;241;43m.\u001b[39;49m\u001b[43msum\u001b[49m\u001b[43m(\u001b[49m\u001b[43m)\u001b[49m\u001b[38;5;241;43m.\u001b[39;49m\u001b[43mbackward\u001b[49m\u001b[43m(\u001b[49m\u001b[43m)\u001b[49m\n",
      "File \u001b[1;32mc:\\Users\\fhsdn\\Desktop\\MyTorch\\src\\parameter.py:77\u001b[0m, in \u001b[0;36mParam.backward\u001b[1;34m(self, grad)\u001b[0m\n\u001b[0;32m     75\u001b[0m \u001b[38;5;28;01mif\u001b[39;00m \u001b[38;5;129;01mnot\u001b[39;00m \u001b[38;5;28misinstance\u001b[39m(grad, (np\u001b[38;5;241m.\u001b[39mndarray, np\u001b[38;5;241m.\u001b[39mgeneric)) :\n\u001b[0;32m     76\u001b[0m     grad \u001b[38;5;241m=\u001b[39m np\u001b[38;5;241m.\u001b[39mones_like(\u001b[38;5;28mself\u001b[39m\u001b[38;5;241m.\u001b[39mdata) \u001b[38;5;241m*\u001b[39m grad\n\u001b[1;32m---> 77\u001b[0m \u001b[38;5;28;43mself\u001b[39;49m\u001b[38;5;241;43m.\u001b[39;49m\u001b[43mgrad_fn\u001b[49m\u001b[38;5;241;43m.\u001b[39;49m\u001b[43mbackward\u001b[49m\u001b[43m(\u001b[49m\u001b[43mgrad\u001b[49m\u001b[43m)\u001b[49m\n",
      "File \u001b[1;32mc:\\Users\\fhsdn\\Desktop\\MyTorch\\src\\gradients\\grad.py:59\u001b[0m, in \u001b[0;36mGradFunction.backward\u001b[1;34m(self, grad)\u001b[0m\n\u001b[0;32m     57\u001b[0m \u001b[38;5;28;01mfor\u001b[39;00m calc, next_fn \u001b[38;5;129;01min\u001b[39;00m \u001b[38;5;28mzip\u001b[39m(calc_grads, \u001b[38;5;28mself\u001b[39m\u001b[38;5;241m.\u001b[39mnext_functions):\n\u001b[0;32m     58\u001b[0m     \u001b[38;5;28;01mif\u001b[39;00m next_fn \u001b[38;5;129;01mis\u001b[39;00m \u001b[38;5;129;01mnot\u001b[39;00m \u001b[38;5;28;01mNone\u001b[39;00m:\n\u001b[1;32m---> 59\u001b[0m         \u001b[43mnext_fn\u001b[49m\u001b[38;5;241;43m.\u001b[39;49m\u001b[43mbackward\u001b[49m\u001b[43m(\u001b[49m\u001b[43mcalc\u001b[49m\u001b[43m)\u001b[49m\n",
      "File \u001b[1;32mc:\\Users\\fhsdn\\Desktop\\MyTorch\\src\\gradients\\grad.py:45\u001b[0m, in \u001b[0;36mGradFunction.backward\u001b[1;34m(self, grad)\u001b[0m\n\u001b[0;32m     43\u001b[0m \u001b[38;5;28;01mfor\u001b[39;00m init_version, node \u001b[38;5;129;01min\u001b[39;00m \u001b[38;5;28mzip\u001b[39m(\u001b[38;5;28mself\u001b[39m\u001b[38;5;241m.\u001b[39mctx\u001b[38;5;241m.\u001b[39msaved_versions, \u001b[38;5;28mself\u001b[39m\u001b[38;5;241m.\u001b[39mctx\u001b[38;5;241m.\u001b[39msaved_tensors):\n\u001b[0;32m     44\u001b[0m     \u001b[38;5;28;01mif\u001b[39;00m init_version \u001b[38;5;241m!=\u001b[39m node\u001b[38;5;241m.\u001b[39m_version:\n\u001b[1;32m---> 45\u001b[0m         \u001b[38;5;28;01mraise\u001b[39;00m \u001b[38;5;167;01mRuntimeError\u001b[39;00m(\n\u001b[0;32m     46\u001b[0m                 \u001b[38;5;124m\"\u001b[39m\u001b[38;5;124mOne of the differentiated Node appears to have been \u001b[39m\u001b[38;5;124m\"\u001b[39m\n\u001b[0;32m     47\u001b[0m                 \u001b[38;5;124m\"\u001b[39m\u001b[38;5;124mmodified in-place since being used for gradient computation.\u001b[39m\u001b[38;5;124m\"\u001b[39m\n\u001b[0;32m     48\u001b[0m             )\n\u001b[0;32m     50\u001b[0m calc_grads \u001b[38;5;241m=\u001b[39m \u001b[38;5;28mself\u001b[39m\u001b[38;5;241m.\u001b[39mop\u001b[38;5;241m.\u001b[39mbackward(\u001b[38;5;28mself\u001b[39m\u001b[38;5;241m.\u001b[39mctx, grad)\n\u001b[0;32m     51\u001b[0m \u001b[38;5;28;01mif\u001b[39;00m \u001b[38;5;129;01mnot\u001b[39;00m \u001b[38;5;28misinstance\u001b[39m(calc_grads, (\u001b[38;5;28mtuple\u001b[39m, \u001b[38;5;28mlist\u001b[39m)):\n",
      "\u001b[1;31mRuntimeError\u001b[0m: One of the differentiated Node appears to have been modified in-place since being used for gradient computation."
     ]
    }
   ],
   "source": [
    "\n",
    "a= my.Param([1., 3., 5.], requires_grad=False)\n",
    "x = my.Param([5., 4., 3.], requires_grad=True)\n",
    "c = my.Param([5.], requires_grad=True)\n",
    "\n",
    "a_ = a*3 # 인덱싱과정에서 발생하는 leaf tensor 오류를 피하기 위함 \n",
    "\n",
    "y = a_*x # 이 과정에서 원래라면 x에는 값 [3, 9, 15] 가 Gradient로 흐르도록 설계 (Mul 연산이므로)\n",
    "\n",
    "print(a._version, x._version, c._version, a_._version, y._version)\n",
    "a_[2] = c  # Inplace Set 연산을 하게 되면서 a_[2]의 값이 변경됨 -> 이로인해 a_*x 의 역전파 과정에서 x에는 값 [3, 9, 5]가 Gradient로 흐르게 될 수 있음(값이 Copy 되지 않는 경우) \n",
    "# 이때 z의 requires_grad = True가됨\n",
    "print(a._version, x._version, c._version, a_._version, y._version)\n",
    "y.sum().backward()\n"
   ]
  },
  {
   "cell_type": "code",
   "execution_count": null,
   "metadata": {},
   "outputs": [],
   "source": []
  }
 ],
 "metadata": {
  "kernelspec": {
   "display_name": "torch",
   "language": "python",
   "name": "python3"
  },
  "language_info": {
   "codemirror_mode": {
    "name": "ipython",
    "version": 3
   },
   "file_extension": ".py",
   "mimetype": "text/x-python",
   "name": "python",
   "nbconvert_exporter": "python",
   "pygments_lexer": "ipython3",
   "version": "3.9.19"
  }
 },
 "nbformat": 4,
 "nbformat_minor": 2
}
