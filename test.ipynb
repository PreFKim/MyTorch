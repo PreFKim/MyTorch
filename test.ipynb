{
 "cells": [
  {
   "cell_type": "code",
   "execution_count": 1,
   "metadata": {},
   "outputs": [],
   "source": [
    "import src as my"
   ]
  },
  {
   "cell_type": "markdown",
   "metadata": {},
   "source": [
    "# 학습 가능한 파라미터 선언 후, 연산 테스트"
   ]
  },
  {
   "cell_type": "code",
   "execution_count": 12,
   "metadata": {},
   "outputs": [],
   "source": [
    "x1,x2 = 5,5\n",
    "w1 = my.Param(1) \n",
    "w2 = my.Param(3) \n",
    "\n",
    "w3 = my.Param(5)"
   ]
  },
  {
   "cell_type": "code",
   "execution_count": 13,
   "metadata": {},
   "outputs": [],
   "source": [
    "out1 = x1*w1 \n",
    "out2 = w2*x2    \n",
    "out3 = out1+out2\n",
    "\n",
    "out4 = w3*out3 \n",
    "\n",
    "out5 = out4-5\n",
    "out6 = abs(out5/5)"
   ]
  },
  {
   "cell_type": "code",
   "execution_count": 14,
   "metadata": {},
   "outputs": [
    {
     "name": "stdout",
     "output_type": "stream",
     "text": [
      "(19.0, type:Node, foward_grad:[1], backward_grad:0.0 requrired_grad:True)(\n",
      "\t(19.0, type:Node, foward_grad:[0.2], backward_grad:0.0 requrired_grad:True)(\n",
      "\t\t(95, type:Node, foward_grad:[1], backward_grad:0.0 requrired_grad:True)(\n",
      "\t\t\t(100, type:Node, foward_grad:[20, 5], backward_grad:0.0 requrired_grad:True)(\n",
      "\t\t\t\t(5, type:Param, foward_grad:[], backward_grad:0.0 requrired_grad:True)(\n",
      "\t\t\t\t)\n",
      "\t\t\t\t(20, type:Node, foward_grad:[1, 1], backward_grad:0.0 requrired_grad:True)(\n",
      "\t\t\t\t\t(5, type:Node, foward_grad:[5], backward_grad:0.0 requrired_grad:True)(\n",
      "\t\t\t\t\t\t(1, type:Param, foward_grad:[], backward_grad:0.0 requrired_grad:True)(\n",
      "\t\t\t\t\t\t)\n",
      "\t\t\t\t\t)\n",
      "\t\t\t\t\t(15, type:Node, foward_grad:[5], backward_grad:0.0 requrired_grad:True)(\n",
      "\t\t\t\t\t\t(3, type:Param, foward_grad:[], backward_grad:0.0 requrired_grad:True)(\n",
      "\t\t\t\t\t\t)\n",
      "\t\t\t\t\t)\n",
      "\t\t\t\t)\n",
      "\t\t\t)\n",
      "\t\t)\n",
      "\t)\n",
      ")\n"
     ]
    }
   ],
   "source": [
    "out6.print_node()"
   ]
  },
  {
   "cell_type": "markdown",
   "metadata": {},
   "source": [
    "# 역전파 테스트"
   ]
  },
  {
   "cell_type": "code",
   "execution_count": 15,
   "metadata": {},
   "outputs": [],
   "source": [
    "x1,x2 = 5,5\n",
    "w1 = my.Param(1) \n",
    "w2 = my.Param(3) \n",
    "\n",
    "w3 = my.Param(5)\n",
    "\n",
    "out1 = x1*w1 \n",
    "out2 = w2*x2    \n",
    "out3 = out1+out2\n",
    "\n",
    "out4 = w3*out3 \n",
    "\n",
    "out5 = out4-5\n",
    "out6 = abs(out5/5)"
   ]
  },
  {
   "cell_type": "code",
   "execution_count": 16,
   "metadata": {},
   "outputs": [
    {
     "name": "stdout",
     "output_type": "stream",
     "text": [
      "(19.0, type:Node, foward_grad:[1], backward_grad:0.0 requrired_grad:True)(\n",
      "\t(19.0, type:Node, foward_grad:[0.2], backward_grad:1.0 requrired_grad:True)(\n",
      "\t\t(95, type:Node, foward_grad:[1], backward_grad:0.2 requrired_grad:True)(\n",
      "\t\t\t(100, type:Node, foward_grad:[20, 5], backward_grad:0.2 requrired_grad:True)(\n",
      "\t\t\t\t(5, type:Param, foward_grad:[], backward_grad:4.0 requrired_grad:True)(\n",
      "\t\t\t\t)\n",
      "\t\t\t\t(20, type:Node, foward_grad:[1, 1], backward_grad:1.0 requrired_grad:True)(\n",
      "\t\t\t\t\t(5, type:Node, foward_grad:[5], backward_grad:1.0 requrired_grad:True)(\n",
      "\t\t\t\t\t\t(1, type:Param, foward_grad:[], backward_grad:5.0 requrired_grad:True)(\n",
      "\t\t\t\t\t\t)\n",
      "\t\t\t\t\t)\n",
      "\t\t\t\t\t(15, type:Node, foward_grad:[5], backward_grad:1.0 requrired_grad:True)(\n",
      "\t\t\t\t\t\t(3, type:Param, foward_grad:[], backward_grad:5.0 requrired_grad:True)(\n",
      "\t\t\t\t\t\t)\n",
      "\t\t\t\t\t)\n",
      "\t\t\t\t)\n",
      "\t\t\t)\n",
      "\t\t)\n",
      "\t)\n",
      ")\n"
     ]
    }
   ],
   "source": [
    "out6.backward()\n",
    "out6.print_node()"
   ]
  },
  {
   "cell_type": "markdown",
   "metadata": {},
   "source": [
    "# 모델 구현 테스트"
   ]
  },
  {
   "cell_type": "code",
   "execution_count": 20,
   "metadata": {},
   "outputs": [],
   "source": [
    "class mymodel(my.layers.Module):\n",
    "    def __init__(self):\n",
    "        self.l1 = my.layers.Linear(in_channels=2,out_channels=2,bias=True)\n",
    "        self.l2 = my.layers.Linear(in_channels=2,out_channels=1,bias=True)\n",
    "\n",
    "    def forward(self,x):\n",
    "        out = self.l1(x)\n",
    "        out = self.l2(out)\n",
    "        return out\n"
   ]
  },
  {
   "cell_type": "code",
   "execution_count": 21,
   "metadata": {},
   "outputs": [],
   "source": [
    "model = mymodel()"
   ]
  },
  {
   "cell_type": "code",
   "execution_count": 22,
   "metadata": {},
   "outputs": [
    {
     "data": {
      "text/plain": [
       "[(7, type:Node, foward_grad:[1, 1], backward_grad:0.0 requrired_grad:True)]"
      ]
     },
     "execution_count": 22,
     "metadata": {},
     "output_type": "execute_result"
    }
   ],
   "source": [
    "model([1,1]) #연산 확인"
   ]
  },
  {
   "cell_type": "code",
   "execution_count": 23,
   "metadata": {},
   "outputs": [
    {
     "data": {
      "text/plain": [
       "True"
      ]
     },
     "execution_count": 23,
     "metadata": {},
     "output_type": "execute_result"
    }
   ],
   "source": [
    "len(model.parameters()) == ((2*2+2)+(2*1+1)) # 파라미터 수 확인"
   ]
  },
  {
   "cell_type": "code",
   "execution_count": 24,
   "metadata": {},
   "outputs": [
    {
     "data": {
      "text/plain": [
       "(7, type:Node, foward_grad:[1, 1], backward_grad:0.0 requrired_grad:True)"
      ]
     },
     "execution_count": 24,
     "metadata": {},
     "output_type": "execute_result"
    }
   ],
   "source": [
    "model([1,1])[0]"
   ]
  },
  {
   "cell_type": "code",
   "execution_count": 25,
   "metadata": {},
   "outputs": [
    {
     "data": {
      "text/plain": [
       "[(1, type:Param, foward_grad:[], backward_grad:1.0 requrired_grad:True),\n",
       " (1, type:Param, foward_grad:[], backward_grad:1.0 requrired_grad:True),\n",
       " (1, type:Param, foward_grad:[], backward_grad:1.0 requrired_grad:True),\n",
       " (1, type:Param, foward_grad:[], backward_grad:1.0 requrired_grad:True),\n",
       " (1, type:Param, foward_grad:[], backward_grad:1.0 requrired_grad:True),\n",
       " (1, type:Param, foward_grad:[], backward_grad:1.0 requrired_grad:True),\n",
       " (1, type:Param, foward_grad:[], backward_grad:3.0 requrired_grad:True),\n",
       " (1, type:Param, foward_grad:[], backward_grad:3.0 requrired_grad:True),\n",
       " (1, type:Param, foward_grad:[], backward_grad:1.0 requrired_grad:True)]"
      ]
     },
     "execution_count": 25,
     "metadata": {},
     "output_type": "execute_result"
    }
   ],
   "source": [
    "loss = abs(model([1,1])[0]-6)\n",
    "loss.backward()\n",
    "model.parameters() # backward 확인"
   ]
  }
 ],
 "metadata": {
  "kernelspec": {
   "display_name": "base",
   "language": "python",
   "name": "python3"
  },
  "language_info": {
   "codemirror_mode": {
    "name": "ipython",
    "version": 3
   },
   "file_extension": ".py",
   "mimetype": "text/x-python",
   "name": "python",
   "nbconvert_exporter": "python",
   "pygments_lexer": "ipython3",
   "version": "3.9.13"
  }
 },
 "nbformat": 4,
 "nbformat_minor": 2
}
